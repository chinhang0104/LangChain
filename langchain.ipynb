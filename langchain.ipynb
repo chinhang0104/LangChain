{
 "cells": [
  {
   "cell_type": "markdown",
   "id": "0e106bc7-4dd8-4a51-bf81-cd663535f243",
   "metadata": {},
   "source": [
    "# Basic Chatbot"
   ]
  },
  {
   "cell_type": "code",
   "execution_count": 20,
   "id": "df2b512b-7e97-48da-8a9b-b21b081f00a2",
   "metadata": {},
   "outputs": [
    {
     "data": {
      "text/plain": [
       "True"
      ]
     },
     "execution_count": 20,
     "metadata": {},
     "output_type": "execute_result"
    }
   ],
   "source": [
    "# Store Access Token as an environment variable\n",
    "import getpass\n",
    "import os\n",
    "from dotenv import load_dotenv\n",
    "\n",
    "# Load environment variables from .env file\n",
    "load_dotenv()"
   ]
  },
  {
   "cell_type": "code",
   "execution_count": 33,
   "id": "49aecd62-e637-4c2a-8ce5-47e5e0245a05",
   "metadata": {},
   "outputs": [],
   "source": [
    "from langchain.chat_models import init_chat_model\n",
    "\n",
    "model = init_chat_model(\"llama-3.3-70b-versatile\", model_provider=\"groq\")"
   ]
  },
  {
   "cell_type": "code",
   "execution_count": 10,
   "id": "77dd9f2f-24ec-4bdb-803c-b9a2a75fae3f",
   "metadata": {},
   "outputs": [
    {
     "data": {
      "text/plain": [
       "AIMessage(content='Ciao!', additional_kwargs={}, response_metadata={'token_usage': {'completion_tokens': 4, 'prompt_tokens': 24, 'total_tokens': 28, 'completion_time': 0.003333333, 'prompt_time': 0.004506276, 'queue_time': 0.166631092, 'total_time': 0.007839609}, 'model_name': 'llama3-8b-8192', 'system_fingerprint': 'fp_dadc9d6142', 'finish_reason': 'stop', 'logprobs': None}, id='run--4e0f0d25-4d22-4e98-84f6-2e2addb2411e-0', usage_metadata={'input_tokens': 24, 'output_tokens': 4, 'total_tokens': 28})"
      ]
     },
     "execution_count": 10,
     "metadata": {},
     "output_type": "execute_result"
    }
   ],
   "source": [
    "from langchain_core.messages import HumanMessage, SystemMessage\n",
    "\n",
    "messages = [\n",
    "    SystemMessage(\"Translate the following from English into Italian\"),\n",
    "    HumanMessage(\"hi!\"),\n",
    "]\n",
    "\n",
    "model.invoke(messages)"
   ]
  },
  {
   "cell_type": "markdown",
   "id": "4a54c369-86dc-4aff-8ec9-31318f507454",
   "metadata": {},
   "source": [
    "# Search Engine"
   ]
  },
  {
   "cell_type": "markdown",
   "id": "9eb89576-9a89-4667-b0c2-28bc52485ad4",
   "metadata": {},
   "source": [
    "## Loading up search engine"
   ]
  },
  {
   "cell_type": "markdown",
   "id": "f6ac9b09-34b7-4703-a9de-b313e4a94af0",
   "metadata": {},
   "source": [
    "We will be using Tavily (a search engine) as a tool. In order to use it, you will need to get and set an API key:\n",
    "https://tavily.com/"
   ]
  },
  {
   "cell_type": "code",
   "execution_count": 25,
   "id": "80b00a69-000c-4b30-94d6-42755727481b",
   "metadata": {},
   "outputs": [],
   "source": [
    "from langchain_community.tools.tavily_search import TavilySearchResults\n",
    "from langchain_core.messages import HumanMessage\n",
    "from langgraph.checkpoint.memory import MemorySaver\n",
    "from langgraph.prebuilt import create_react_agent"
   ]
  },
  {
   "cell_type": "code",
   "execution_count": 26,
   "id": "c58d947b-ba75-49b6-8d3d-a242e223f707",
   "metadata": {
    "scrolled": true
   },
   "outputs": [
    {
     "name": "stderr",
     "output_type": "stream",
     "text": [
      "C:\\Users\\chinh\\AppData\\Local\\Temp\\ipykernel_3796\\3510116346.py:2: LangChainDeprecationWarning: The class `TavilySearchResults` was deprecated in LangChain 0.3.25 and will be removed in 1.0. An updated version of the class exists in the :class:`~langchain-tavily package and should be used instead. To use it run `pip install -U :class:`~langchain-tavily` and import as `from :class:`~langchain_tavily import TavilySearch``.\n",
      "  search = TavilySearchResults(max_results=2)\n"
     ]
    },
    {
     "name": "stdout",
     "output_type": "stream",
     "text": [
      "[{'title': 'Hong Kong Weather Forecast 2025-10-02', 'url': 'https://www.navigator-insurance.com/blog/hong-kong-weather-forecast-2025-10-02/', 'content': 'Sea Temperature (North Point): 28°C (Recorded: Oct 02, 2025, 07:00)\\n\\nSoil Temperature (Hong Kong Observatory, 0.5m): 29.7°C (Recorded: Oct 02, 2025, 07:00)\\n\\nSoil Temperature (Hong Kong Observatory, 1m): 29.2°C (Recorded: Oct 02, 2025, 07:00) [...] Mainly cloudy with a few squally showers and thunderstorms. More showers at first. Seas will be rough with swells.\\n\\nMax Temp: 29°C\\n\\nMin Temp: 26°C\\n\\nHumidity: 80-95%\\n\\nWind: East to southeast force 5 to 6, occasionally force 8 offshore and on high ground at first.\\n\\nProbability of Significant Rain: High\\n\\n### Monday, Oct 06\\n\\nMainly cloudy with a few showers. Sunny periods during the day.\\n\\nMax Temp: 31°C\\n\\nMin Temp: 27°C\\n\\nHumidity: 70-95%\\n\\nWind: East to southeast force 3 to 4. [...] ### Friday, Oct 03\\n\\nMainly fine. Very hot during the day.\\n\\nMax Temp: 33°C\\n\\nMin Temp: 28°C\\n\\nHumidity: 60-85%\\n\\nWind: East force 2 to 3.\\n\\nProbability of Significant Rain: Low\\n\\n### Saturday, Oct 04\\n\\nSunny periods. Very hot during the day. A few squally showers and thunderstorms later. Seas will be rough with swells.\\n\\nMax Temp: 33°C\\n\\nMin Temp: 27°C\\n\\nHumidity: 65-95%\\n\\nWind: Northeast force 3, becoming force 5 to 6.\\n\\nProbability of Significant Rain: Medium\\n\\n### Sunday, Oct 05', 'score': 0.8868231}, {'title': 'Weather Hong Kong in October 2025: Temperature & Climate', 'url': 'https://en.climate-data.org/asia/china/hong-kong/hong-kong-977986/t/october-10/', 'content': '| Min. Temperature °C (°F) | 12.8 °C (55.1) °F | 14.7 °C (58.4) °F | 17.3 °C (63.2) °F | 20.8 °C (69.4) °F | 23.7 °C (74.7) °F | 25.6 °C (78) °F | 26 °C (78.8) °F | 25.7 °C (78.3) °F | 24.8 °C (76.7) °F | 22.4 °C (72.4) °F | 18.6 °C (65.5) °F | 13.9 °C (57) °F | [...] | (°F) | Temperature max. (°C) | (°F) | Temperature min. (°C) | (°F) | Water Temperature (°C) | (°F) | Precipitation / Rainfall (mm) | (inch.) |\\n ---  ---  --- |\\n| 1. October | 26 °C | 79 °F | 28 °C | 83 °F | 24 °C | 76 °F | 28 °C | 82 °F | 2.4 mm | 0.1 inch. |\\n| 2. October | 26 °C | 79 °F | 28 °C | 83 °F | 24 °C | 75 °F | 28 °C | 82 °F | 1.6 mm | 0.1 inch. |\\n| 3. October | 26 °C | 78 °F | 28 °C | 82 °F | 24 °C | 75 °F | 28 °C | 82 °F | 1.8 mm | 0.1 inch. | [...] | Max. Temperature °C (°F) | 18.3 °C (64.9) °F | 19.7 °C (67.5) °F | 22.1 °C (71.8) °F | 25.1 °C (77.2) °F | 27.5 °C (81.5) °F | 29 °C (84.2) °F | 29.7 °C (85.4) °F | 29.6 °C (85.4) °F | 28.9 °C (84) °F | 26.9 °C (80.3) °F | 23.6 °C (74.5) °F | 19.5 °C (67) °F |\\n| Precipitation / Rainfall mm (in) | 36 (1) | 53 (2) | 78 (3) | 132 (5) | 217 (8) | 322 (12) | 263 (10) | 311 (12) | 225 (8) | 75 (2) | 47 (1) | 37 (1) |', 'score': 0.8296166}]\n"
     ]
    }
   ],
   "source": [
    "# Loading up search engine \n",
    "search = TavilySearchResults(max_results=2)\n",
    "search_results = search.invoke(\"what is the weather in hk\")\n",
    "print(search_results)"
   ]
  },
  {
   "cell_type": "markdown",
   "id": "d4eb0837-98de-4017-8d60-4f2294d813b2",
   "metadata": {},
   "source": [
    "## Combine search engine with LLM by agent"
   ]
  },
  {
   "cell_type": "code",
   "execution_count": 27,
   "id": "45505c07-6070-4d91-b3f2-1c5c4f74373e",
   "metadata": {},
   "outputs": [],
   "source": [
    "tools = [search]\n",
    "model_with_tools = model.bind_tools(tools)"
   ]
  },
  {
   "cell_type": "code",
   "execution_count": 28,
   "id": "80bab206-9433-418c-af8c-6783b774558d",
   "metadata": {
    "scrolled": true
   },
   "outputs": [
    {
     "name": "stdout",
     "output_type": "stream",
     "text": [
      "ContentString: \n",
      "ToolCalls: [{'name': 'tavily_search_results_json', 'args': {'query': \"What's the weather in San Francisco?\"}, 'id': 'call_y72h', 'type': 'tool_call'}]\n"
     ]
    }
   ],
   "source": [
    "response = model_with_tools.invoke([HumanMessage(content=\"What's the weather in SF? You should use web search.\")])\n",
    "\n",
    "print(f\"ContentString: {response.content}\")\n",
    "print(f\"ToolCalls: {response.tool_calls}\")"
   ]
  },
  {
   "cell_type": "markdown",
   "id": "4613c0a4-c588-4bd8-8d04-175eb824ae1a",
   "metadata": {},
   "source": [
    "We can see that there's now no text content, but there is a tool call! It wants us to call the Tavily Search tool.\n",
    "\n",
    "This isn't calling that tool yet - it's just telling us to. In order to actually call it, we'll want to create our agent."
   ]
  },
  {
   "cell_type": "code",
   "execution_count": 29,
   "id": "c71a65b4-7caa-4f5a-af3b-dc918fa627be",
   "metadata": {},
   "outputs": [],
   "source": [
    "from langgraph.prebuilt import create_react_agent\n",
    "\n",
    "agent_executor = create_react_agent(model, tools)"
   ]
  },
  {
   "cell_type": "code",
   "execution_count": 32,
   "id": "cc85dbae-8c5f-49be-ad78-1a889dd374a8",
   "metadata": {},
   "outputs": [
    {
     "data": {
      "text/plain": [
       "[HumanMessage(content=\"What's the weather in SF?\", additional_kwargs={}, response_metadata={}, id='a297c731-228b-4861-b79c-349f4a9b64f3'),\n",
       " AIMessage(content='The current weather in San Francisco is sunny with a high of 68°F (20°C) and a low of 56°F (13°C).', additional_kwargs={}, response_metadata={'token_usage': {'completion_tokens': 31, 'prompt_tokens': 1912, 'total_tokens': 1943, 'completion_time': 0.025833333, 'prompt_time': 0.237873462, 'queue_time': -0.294430081, 'total_time': 0.263706795}, 'model_name': 'llama3-8b-8192', 'system_fingerprint': 'fp_dadc9d6142', 'finish_reason': 'stop', 'logprobs': None}, id='run--9c543b6e-402f-4537-99c5-85fd84227f4f-0', usage_metadata={'input_tokens': 1912, 'output_tokens': 31, 'total_tokens': 1943})]"
      ]
     },
     "execution_count": 32,
     "metadata": {},
     "output_type": "execute_result"
    }
   ],
   "source": [
    "response = agent_executor.invoke(\n",
    "    {\"messages\": [HumanMessage(content=\"What's the weather in SF?\")]}\n",
    ")\n",
    "response[\"messages\"]"
   ]
  },
  {
   "cell_type": "markdown",
   "id": "5403794d-ab51-4a1d-a36d-c36caf12be8a",
   "metadata": {},
   "source": [
    "The above response indicate the model do not use tavily. So, we should add SystemMessage to instruct the agent to use web search if needed"
   ]
  },
  {
   "cell_type": "code",
   "execution_count": 39,
   "id": "d5532533-7950-4d72-8c83-647959ea1f66",
   "metadata": {},
   "outputs": [
    {
     "data": {
      "text/plain": [
       "[SystemMessage(content='Whenever you do not know the answer or need up-to-date information, perform a web search to find accurate and relevant results before responding.', additional_kwargs={}, response_metadata={}, id='6ea97751-6268-4b30-9866-b5328952a886'),\n",
       " HumanMessage(content=\"What's the weather in SF? \", additional_kwargs={}, response_metadata={}, id='0b671691-727e-4040-86d3-d2bf8f52e683'),\n",
       " AIMessage(content='', additional_kwargs={'tool_calls': [{'id': 'call_xpz7', 'function': {'arguments': '{\"query\":\"weather in San Francisco\"}', 'name': 'tavily_search_results_json'}, 'type': 'function'}]}, response_metadata={'token_usage': {'completion_tokens': 80, 'prompt_tokens': 1975, 'total_tokens': 2055, 'completion_time': 0.066666667, 'prompt_time': 0.246168528, 'queue_time': -0.302638948, 'total_time': 0.312835195}, 'model_name': 'llama3-8b-8192', 'system_fingerprint': 'fp_dadc9d6142', 'finish_reason': 'tool_calls', 'logprobs': None}, id='run--9eda1e98-4db8-4a97-98df-f1ff51c1274f-0', tool_calls=[{'name': 'tavily_search_results_json', 'args': {'query': 'weather in San Francisco'}, 'id': 'call_xpz7', 'type': 'tool_call'}], usage_metadata={'input_tokens': 1975, 'output_tokens': 80, 'total_tokens': 2055}),\n",
       " ToolMessage(content='[{\"title\": \"Weather in San Francisco\", \"url\": \"https://www.weatherapi.com/\", \"content\": \"{\\'location\\': {\\'name\\': \\'San Francisco\\', \\'region\\': \\'California\\', \\'country\\': \\'United States of America\\', \\'lat\\': 37.775, \\'lon\\': -122.4183, \\'tz_id\\': \\'America/Los_Angeles\\', \\'localtime_epoch\\': 1747051252, \\'localtime\\': \\'2025-05-12 05:00\\'}, \\'current\\': {\\'last_updated_epoch\\': 1747051200, \\'last_updated\\': \\'2025-05-12 05:00\\', \\'temp_c\\': 13.3, \\'temp_f\\': 55.9, \\'is_day\\': 0, \\'condition\\': {\\'text\\': \\'Overcast\\', \\'icon\\': \\'//cdn.weatherapi.com/weather/64x64/night/122.png\\', \\'code\\': 1009}, \\'wind_mph\\': 11.6, \\'wind_kph\\': 18.7, \\'wind_degree\\': 189, \\'wind_dir\\': \\'S\\', \\'pressure_mb\\': 1014.0, \\'pressure_in\\': 29.94, \\'precip_mm\\': 1.5, \\'precip_in\\': 0.06, \\'humidity\\': 84, \\'cloud\\': 100, \\'feelslike_c\\': 11.6, \\'feelslike_f\\': 53.0, \\'windchill_c\\': 9.1, \\'windchill_f\\': 48.3, \\'heatindex_c\\': 11.0, \\'heatindex_f\\': 51.9, \\'dewpoint_c\\': 10.2, \\'dewpoint_f\\': 50.4, \\'vis_km\\': 16.0, \\'vis_miles\\': 9.0, \\'uv\\': 0.0, \\'gust_mph\\': 16.9, \\'gust_kph\\': 27.3}}\", \"score\": 0.9871103}, {\"title\": \"Monday, May 12, 2025. San Francisco, CA - Weather Forecast\", \"url\": \"https://weathershogun.com/weather/usa/ca/san-francisco/480/may/2025-05-12\", \"content\": \"San Francisco, California Weather: Monday, May 12, 2025. Sunny weather, clear skies and sunny weather. Day 59°. Night 52°. Precipitation 0 %.\", \"score\": 0.9635647}]', name='tavily_search_results_json', id='e8da88fe-abb8-470d-972b-9eb047c1a193', tool_call_id='call_xpz7', artifact={'query': 'weather in San Francisco', 'follow_up_questions': None, 'answer': None, 'images': [], 'results': [{'title': 'Weather in San Francisco', 'url': 'https://www.weatherapi.com/', 'content': \"{'location': {'name': 'San Francisco', 'region': 'California', 'country': 'United States of America', 'lat': 37.775, 'lon': -122.4183, 'tz_id': 'America/Los_Angeles', 'localtime_epoch': 1747051252, 'localtime': '2025-05-12 05:00'}, 'current': {'last_updated_epoch': 1747051200, 'last_updated': '2025-05-12 05:00', 'temp_c': 13.3, 'temp_f': 55.9, 'is_day': 0, 'condition': {'text': 'Overcast', 'icon': '//cdn.weatherapi.com/weather/64x64/night/122.png', 'code': 1009}, 'wind_mph': 11.6, 'wind_kph': 18.7, 'wind_degree': 189, 'wind_dir': 'S', 'pressure_mb': 1014.0, 'pressure_in': 29.94, 'precip_mm': 1.5, 'precip_in': 0.06, 'humidity': 84, 'cloud': 100, 'feelslike_c': 11.6, 'feelslike_f': 53.0, 'windchill_c': 9.1, 'windchill_f': 48.3, 'heatindex_c': 11.0, 'heatindex_f': 51.9, 'dewpoint_c': 10.2, 'dewpoint_f': 50.4, 'vis_km': 16.0, 'vis_miles': 9.0, 'uv': 0.0, 'gust_mph': 16.9, 'gust_kph': 27.3}}\", 'score': 0.9871103, 'raw_content': None}, {'url': 'https://weathershogun.com/weather/usa/ca/san-francisco/480/may/2025-05-12', 'title': 'Monday, May 12, 2025. San Francisco, CA - Weather Forecast', 'content': 'San Francisco, California Weather: Monday, May 12, 2025. Sunny weather, clear skies and sunny weather. Day 59°. Night 52°. Precipitation 0 %.', 'score': 0.9635647, 'raw_content': None}], 'response_time': 1.59}),\n",
       " AIMessage(content='', additional_kwargs={'tool_calls': [{'id': 'call_f9aa', 'function': {'arguments': '{\"query\":\"weather in San Francisco\"}', 'name': 'tavily_search_results_json'}, 'type': 'function'}]}, response_metadata={'token_usage': {'completion_tokens': 77, 'prompt_tokens': 1583, 'total_tokens': 1660, 'completion_time': 0.064166667, 'prompt_time': 0.216922765, 'queue_time': 0.168352955, 'total_time': 0.281089432}, 'model_name': 'llama3-8b-8192', 'system_fingerprint': 'fp_dadc9d6142', 'finish_reason': 'tool_calls', 'logprobs': None}, id='run--47e46143-35cb-4b92-8291-85efe51b0f61-0', tool_calls=[{'name': 'tavily_search_results_json', 'args': {'query': 'weather in San Francisco'}, 'id': 'call_f9aa', 'type': 'tool_call'}], usage_metadata={'input_tokens': 1583, 'output_tokens': 77, 'total_tokens': 1660}),\n",
       " ToolMessage(content='[{\"title\": \"Weather in San Francisco\", \"url\": \"https://www.weatherapi.com/\", \"content\": \"{\\'location\\': {\\'name\\': \\'San Francisco\\', \\'region\\': \\'California\\', \\'country\\': \\'United States of America\\', \\'lat\\': 37.775, \\'lon\\': -122.4183, \\'tz_id\\': \\'America/Los_Angeles\\', \\'localtime_epoch\\': 1747051252, \\'localtime\\': \\'2025-05-12 05:00\\'}, \\'current\\': {\\'last_updated_epoch\\': 1747051200, \\'last_updated\\': \\'2025-05-12 05:00\\', \\'temp_c\\': 13.3, \\'temp_f\\': 55.9, \\'is_day\\': 0, \\'condition\\': {\\'text\\': \\'Overcast\\', \\'icon\\': \\'//cdn.weatherapi.com/weather/64x64/night/122.png\\', \\'code\\': 1009}, \\'wind_mph\\': 11.6, \\'wind_kph\\': 18.7, \\'wind_degree\\': 189, \\'wind_dir\\': \\'S\\', \\'pressure_mb\\': 1014.0, \\'pressure_in\\': 29.94, \\'precip_mm\\': 1.5, \\'precip_in\\': 0.06, \\'humidity\\': 84, \\'cloud\\': 100, \\'feelslike_c\\': 11.6, \\'feelslike_f\\': 53.0, \\'windchill_c\\': 9.1, \\'windchill_f\\': 48.3, \\'heatindex_c\\': 11.0, \\'heatindex_f\\': 51.9, \\'dewpoint_c\\': 10.2, \\'dewpoint_f\\': 50.4, \\'vis_km\\': 16.0, \\'vis_miles\\': 9.0, \\'uv\\': 0.0, \\'gust_mph\\': 16.9, \\'gust_kph\\': 27.3}}\", \"score\": 0.9871103}, {\"title\": \"Monday, May 12, 2025. San Francisco, CA - Weather Forecast\", \"url\": \"https://weathershogun.com/weather/usa/ca/san-francisco/480/may/2025-05-12\", \"content\": \"San Francisco, California Weather: Monday, May 12, 2025. Sunny weather, clear skies and sunny weather. Day 59°. Night 52°. Precipitation 0 %.\", \"score\": 0.9635647}]', name='tavily_search_results_json', id='217b2681-8c38-4517-90b6-0296c59ae0ce', tool_call_id='call_f9aa', artifact={'query': 'weather in San Francisco', 'follow_up_questions': None, 'answer': None, 'images': [], 'results': [{'title': 'Weather in San Francisco', 'url': 'https://www.weatherapi.com/', 'content': \"{'location': {'name': 'San Francisco', 'region': 'California', 'country': 'United States of America', 'lat': 37.775, 'lon': -122.4183, 'tz_id': 'America/Los_Angeles', 'localtime_epoch': 1747051252, 'localtime': '2025-05-12 05:00'}, 'current': {'last_updated_epoch': 1747051200, 'last_updated': '2025-05-12 05:00', 'temp_c': 13.3, 'temp_f': 55.9, 'is_day': 0, 'condition': {'text': 'Overcast', 'icon': '//cdn.weatherapi.com/weather/64x64/night/122.png', 'code': 1009}, 'wind_mph': 11.6, 'wind_kph': 18.7, 'wind_degree': 189, 'wind_dir': 'S', 'pressure_mb': 1014.0, 'pressure_in': 29.94, 'precip_mm': 1.5, 'precip_in': 0.06, 'humidity': 84, 'cloud': 100, 'feelslike_c': 11.6, 'feelslike_f': 53.0, 'windchill_c': 9.1, 'windchill_f': 48.3, 'heatindex_c': 11.0, 'heatindex_f': 51.9, 'dewpoint_c': 10.2, 'dewpoint_f': 50.4, 'vis_km': 16.0, 'vis_miles': 9.0, 'uv': 0.0, 'gust_mph': 16.9, 'gust_kph': 27.3}}\", 'score': 0.9871103, 'raw_content': None}, {'url': 'https://weathershogun.com/weather/usa/ca/san-francisco/480/may/2025-05-12', 'title': 'Monday, May 12, 2025. San Francisco, CA - Weather Forecast', 'content': 'San Francisco, California Weather: Monday, May 12, 2025. Sunny weather, clear skies and sunny weather. Day 59°. Night 52°. Precipitation 0 %.', 'score': 0.9635647, 'raw_content': None}], 'response_time': 1.68}),\n",
       " AIMessage(content='The weather in San Francisco is currently overcast with a temperature of 13.3°C (55.9°F) and a humidity of 84%. The wind is coming from the south at a speed of 18.7 km/h (11.6 mph).', additional_kwargs={}, response_metadata={'token_usage': {'completion_tokens': 55, 'prompt_tokens': 2189, 'total_tokens': 2244, 'completion_time': 0.045833333, 'prompt_time': 0.398682062, 'queue_time': 0.16892653599999996, 'total_time': 0.444515395}, 'model_name': 'llama3-8b-8192', 'system_fingerprint': 'fp_dadc9d6142', 'finish_reason': 'stop', 'logprobs': None}, id='run--642487de-ed23-44bc-928d-7201fce96aaa-0', usage_metadata={'input_tokens': 2189, 'output_tokens': 55, 'total_tokens': 2244})]"
      ]
     },
     "execution_count": 39,
     "metadata": {},
     "output_type": "execute_result"
    }
   ],
   "source": [
    "# Adding SystemMessage to instruct the agent to use web search if needed\n",
    "response = agent_executor.invoke(\n",
    "    {\"messages\": [SystemMessage(content='Whenever you do not know the answer or need up-to-date information, perform a web search to find accurate and relevant results before responding.'), \n",
    "                  HumanMessage(content=\"What's the weather in SF? \")]}\n",
    ")\n",
    "response[\"messages\"]"
   ]
  },
  {
   "cell_type": "markdown",
   "id": "a90a81f4-ac11-4839-bb60-c331eb4e1581",
   "metadata": {},
   "source": [
    "## Adding in memory"
   ]
  },
  {
   "cell_type": "markdown",
   "id": "6d4a3d31-12de-477b-8eee-5663e91a5cef",
   "metadata": {},
   "source": [
    "The agent is stateless without MemorySaver. To make it knows which thread/conversation to resume from, we also have to pass in a thread_id when invoking the agent. \n",
    "Use LangGraph SqliteSaver or PostgresSaver and connect a database for persistent store. "
   ]
  },
  {
   "cell_type": "code",
   "execution_count": 40,
   "id": "0733dd58-00f5-42ec-bcf1-87c43f2c723f",
   "metadata": {},
   "outputs": [],
   "source": [
    "from langgraph.checkpoint.memory import MemorySaver\n",
    "\n",
    "# In-Memory Saver, for demo only\n",
    "memory = MemorySaver()"
   ]
  },
  {
   "cell_type": "code",
   "execution_count": 41,
   "id": "f63cf1ec-4189-4263-8441-965018bf459b",
   "metadata": {},
   "outputs": [],
   "source": [
    "from langgraph.prebuilt import create_react_agent\n",
    "agent_executor = create_react_agent(model, tools, checkpointer=memory)\n",
    "\n",
    "# Change thread_id for different conversation\n",
    "config = {\"configurable\": {\"thread_id\": \"abc123\"}}"
   ]
  },
  {
   "cell_type": "code",
   "execution_count": 42,
   "id": "f5503451-c47f-4f74-b31c-4a3aac13e570",
   "metadata": {},
   "outputs": [
    {
     "name": "stdout",
     "output_type": "stream",
     "text": [
      "{'agent': {'messages': [AIMessage(content='Hi Bob!', additional_kwargs={}, response_metadata={'token_usage': {'completion_tokens': 4, 'prompt_tokens': 1906, 'total_tokens': 1910, 'completion_time': 0.003333333, 'prompt_time': 0.237213137, 'queue_time': -0.289303203, 'total_time': 0.24054647}, 'model_name': 'llama3-8b-8192', 'system_fingerprint': 'fp_179b0f92c9', 'finish_reason': 'stop', 'logprobs': None}, id='run--86f814cc-e641-44a9-81ef-828fc8c82ab5-0', usage_metadata={'input_tokens': 1906, 'output_tokens': 4, 'total_tokens': 1910})]}}\n",
      "----\n"
     ]
    }
   ],
   "source": [
    "# 1st conversation\n",
    "for chunk in agent_executor.stream(\n",
    "    {\"messages\": [HumanMessage(content=\"hi im bob!\")]}, config\n",
    "):\n",
    "    print(chunk)\n",
    "    print(\"----\")"
   ]
  },
  {
   "cell_type": "code",
   "execution_count": 43,
   "id": "9503d728-a9f8-49d6-81b4-84908a5aff69",
   "metadata": {},
   "outputs": [
    {
     "name": "stdout",
     "output_type": "stream",
     "text": [
      "{'agent': {'messages': [AIMessage(content='Your name is Bob!', additional_kwargs={}, response_metadata={'token_usage': {'completion_tokens': 6, 'prompt_tokens': 961, 'total_tokens': 967, 'completion_time': 0.005, 'prompt_time': 0.119936318, 'queue_time': 0.166901968, 'total_time': 0.124936318}, 'model_name': 'llama3-8b-8192', 'system_fingerprint': 'fp_dadc9d6142', 'finish_reason': 'stop', 'logprobs': None}, id='run--6cea7bf1-1f1f-42f5-88b7-c3f43cec57b5-0', usage_metadata={'input_tokens': 961, 'output_tokens': 6, 'total_tokens': 967})]}}\n",
      "----\n"
     ]
    }
   ],
   "source": [
    "# 2nd conversation\n",
    "for chunk in agent_executor.stream(\n",
    "    {\"messages\": [HumanMessage(content=\"whats my name?\")]}, config\n",
    "):\n",
    "    print(chunk)\n",
    "    print(\"----\")"
   ]
  },
  {
   "cell_type": "markdown",
   "id": "e6652931-ea8f-43df-8884-89df1248d3bc",
   "metadata": {},
   "source": [
    "The agent replied \"Your name is Bob!\" which means it remember the conversation. "
   ]
  },
  {
   "cell_type": "markdown",
   "id": "e061fdb3-0a4f-4496-bc90-01a11da5b3fb",
   "metadata": {},
   "source": [
    "### PostgreSQL as Memory Store"
   ]
  },
  {
   "cell_type": "code",
   "execution_count": 2,
   "id": "2cb63550-8aa8-44d0-a2f9-a9c9716c0af9",
   "metadata": {},
   "outputs": [],
   "source": [
    "import os\n",
    "from dotenv import load_dotenv\n",
    "\n",
    "# Load environment variables from .env file\n",
    "load_dotenv()\n",
    "\n",
    "# Get the database URL\n",
    "DATABASE_URL = os.getenv('DATABASE_URL')"
   ]
  },
  {
   "cell_type": "code",
   "execution_count": 28,
   "id": "bc37973c-9d00-4f84-a51f-3ecddb020b7f",
   "metadata": {},
   "outputs": [],
   "source": [
    "from langgraph.prebuilt import create_react_agent\n",
    "from langgraph.checkpoint.postgres import PostgresSaver\n",
    "memory = PostgresSaver.from_conn_string(DATABASE_URL)\n",
    "agent_executor = create_react_agent(model, tools, checkpointer=memory)"
   ]
  },
  {
   "cell_type": "code",
   "execution_count": 29,
   "id": "9e4a6b24-85cd-47bc-83c7-5fbfaace45d2",
   "metadata": {},
   "outputs": [],
   "source": [
    "# Change thread_id for different conversation\n",
    "config = {\"configurable\": {\"thread_id\": \"31025a\"}}"
   ]
  },
  {
   "cell_type": "code",
   "execution_count": 34,
   "id": "bb1ada82-22cc-4654-a67e-794805cd4c19",
   "metadata": {
    "scrolled": true
   },
   "outputs": [
    {
     "name": "stdout",
     "output_type": "stream",
     "text": [
      "================================\u001b[1m Human Message \u001b[0m=================================\n",
      "\n",
      "Hi! Remember: my name is Bob\n",
      "==================================\u001b[1m Ai Message \u001b[0m==================================\n",
      "\n",
      "Hello Bob, nice to see you again. How can I assist you today?\n",
      "================================\u001b[1m Human Message \u001b[0m=================================\n",
      "\n",
      "what is my name?\n",
      "==================================\u001b[1m Ai Message \u001b[0m==================================\n",
      "\n",
      "Your name is Bob.\n"
     ]
    }
   ],
   "source": [
    "from langchain_core.runnables import RunnableConfig\n",
    "from langchain.chat_models import init_chat_model\n",
    "from langgraph.graph import StateGraph, MessagesState, START\n",
    "from langgraph.checkpoint.postgres import PostgresSaver\n",
    "#from langgraph.store.postgres import PostgresStore\n",
    "#from langgraph.store.base import BaseStore\n",
    "import uuid\n",
    "\n",
    "with (\n",
    "    #PostgresStore.from_conn_string(DATABASE_URL) as store,\n",
    "    PostgresSaver.from_conn_string(DATABASE_URL) as checkpointer,\n",
    "):\n",
    "    #store.setup()\n",
    "    #checkpointer.setup()\n",
    "\n",
    "    def call_model(\n",
    "        state: MessagesState,\n",
    "        config: RunnableConfig,\n",
    "        #store: BaseStore,\n",
    "    ):\n",
    "        return {\"messages\": [model.invoke(state[\"messages\"])]}\n",
    "\n",
    "    builder = StateGraph(MessagesState)\n",
    "    builder.add_node(call_model)\n",
    "    builder.add_edge(START, \"call_model\")\n",
    "\n",
    "    graph = builder.compile(\n",
    "        checkpointer=checkpointer,\n",
    "        #store=store,\n",
    "    )\n",
    "\n",
    "    config = {\n",
    "        \"configurable\": {\n",
    "            \"thread_id\": \"31025a\",\n",
    "            \"user_id\": \"1\",\n",
    "        }\n",
    "    }\n",
    "    \n",
    "    for chunk in graph.stream(\n",
    "        {\"messages\": [{\"role\": \"user\", \"content\": \"Hi! Remember: my name is Bob\"}]},\n",
    "        config,\n",
    "        stream_mode=\"values\",\n",
    "    ):\n",
    "        chunk[\"messages\"][-1].pretty_print()\n",
    "\n",
    "    for chunk in graph.stream(\n",
    "        {\"messages\": [{\"role\": \"user\", \"content\": \"what is my name?\"}]},\n",
    "        config,\n",
    "        stream_mode=\"values\",\n",
    "    ):\n",
    "        chunk[\"messages\"][-1].pretty_print()"
   ]
  },
  {
   "cell_type": "code",
   "execution_count": 38,
   "id": "adcf336d-fd5f-40a5-973f-e4e04a4c8483",
   "metadata": {
    "scrolled": true
   },
   "outputs": [],
   "source": [
    "from langgraph.checkpoint.postgres import PostgresSaver\n",
    "with PostgresSaver.from_conn_string(DATABASE_URL) as memory:\n",
    "    # Run a graph, then list the checkpoints\n",
    "    #config = {\"configurable\": {\"thread_id\": \"1\"}}\n",
    "    checkpoints = list(memory.list(config))"
   ]
  },
  {
   "cell_type": "code",
   "execution_count": 37,
   "id": "f06c806f-5c7c-46af-b0fe-4f82b6df73ce",
   "metadata": {
    "scrolled": true
   },
   "outputs": [
    {
     "data": {
      "text/plain": [
       "{'v': 4,\n",
       " 'id': '1f0a0103-5739-623f-8006-329f44118594',\n",
       " 'ts': '2025-10-03T04:19:52.517279+00:00',\n",
       " 'versions_seen': {'__input__': {},\n",
       "  '__start__': {'__start__': '00000000000000000000000000000006.0.845301009096755'},\n",
       "  'call_model': {'branch:to:call_model': '00000000000000000000000000000007.0.6912299745660969'}},\n",
       " 'channel_values': {'messages': [HumanMessage(content='Hi! Remember: my name is Bob', additional_kwargs={}, response_metadata={}, id='bc6c2b8c-4530-488b-bfe3-55fa8bf22d7e'),\n",
       "   HumanMessage(content='Hi! Remember: my name is Bob', additional_kwargs={}, response_metadata={}, id='2c9d415b-429f-4c58-9517-ca41ef04f1fc'),\n",
       "   AIMessage(content='Hello Bob, nice to see you again. How can I assist you today?', additional_kwargs={}, response_metadata={'token_usage': {'completion_tokens': 17, 'prompt_tokens': 56, 'total_tokens': 73, 'completion_time': 0.052048593, 'prompt_time': 0.003370532, 'queue_time': 4.246878481, 'total_time': 0.055419125}, 'model_name': 'llama-3.3-70b-versatile', 'system_fingerprint': 'fp_9e1e8f8435', 'service_tier': 'on_demand', 'finish_reason': 'stop', 'logprobs': None}, id='run--c854b61c-765a-42a7-bf05-3b5ffedd4295-0', usage_metadata={'input_tokens': 56, 'output_tokens': 17, 'total_tokens': 73}),\n",
       "   HumanMessage(content='what is my name?', additional_kwargs={}, response_metadata={}, id='2538eeae-b18e-4529-992f-10119e219ea9'),\n",
       "   AIMessage(content='Your name is Bob.', additional_kwargs={}, response_metadata={'token_usage': {'completion_tokens': 6, 'prompt_tokens': 87, 'total_tokens': 93, 'completion_time': 0.01133846, 'prompt_time': 0.005646229, 'queue_time': 1.116320687, 'total_time': 0.016984689}, 'model_name': 'llama-3.3-70b-versatile', 'system_fingerprint': 'fp_9e1e8f8435', 'service_tier': 'on_demand', 'finish_reason': 'stop', 'logprobs': None}, id='run--8a737c92-2e2c-4c5c-898f-92fc79cba782-0', usage_metadata={'input_tokens': 87, 'output_tokens': 6, 'total_tokens': 93})]},\n",
       " 'channel_versions': {'messages': '00000000000000000000000000000008.0.10244508765759064',\n",
       "  '__start__': '00000000000000000000000000000007.0.6912299745660969',\n",
       "  'branch:to:call_model': '00000000000000000000000000000008.0.10244508765759064'}}"
      ]
     },
     "execution_count": 37,
     "metadata": {},
     "output_type": "execute_result"
    }
   ],
   "source": [
    "checkpoints[0].checkpoint"
   ]
  }
 ],
 "metadata": {
  "kernelspec": {
   "display_name": "Python 3 (ipykernel)",
   "language": "python",
   "name": "python3"
  },
  "language_info": {
   "codemirror_mode": {
    "name": "ipython",
    "version": 3
   },
   "file_extension": ".py",
   "mimetype": "text/x-python",
   "name": "python",
   "nbconvert_exporter": "python",
   "pygments_lexer": "ipython3",
   "version": "3.12.11"
  }
 },
 "nbformat": 4,
 "nbformat_minor": 5
}
