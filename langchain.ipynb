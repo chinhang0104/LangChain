{
 "cells": [
  {
   "cell_type": "markdown",
   "id": "0e106bc7-4dd8-4a51-bf81-cd663535f243",
   "metadata": {
    "jp-MarkdownHeadingCollapsed": true
   },
   "source": [
    "# Basic Chatbot"
   ]
  },
  {
   "cell_type": "code",
   "execution_count": 46,
   "id": "df2b512b-7e97-48da-8a9b-b21b081f00a2",
   "metadata": {},
   "outputs": [
    {
     "data": {
      "text/plain": [
       "True"
      ]
     },
     "execution_count": 46,
     "metadata": {},
     "output_type": "execute_result"
    }
   ],
   "source": [
    "# Store Access Token as an environment variable\n",
    "import getpass\n",
    "import os\n",
    "from dotenv import load_dotenv\n",
    "\n",
    "# Load environment variables from .env file\n",
    "load_dotenv()"
   ]
  },
  {
   "cell_type": "code",
   "execution_count": 47,
   "id": "49aecd62-e637-4c2a-8ce5-47e5e0245a05",
   "metadata": {},
   "outputs": [],
   "source": [
    "from langchain.chat_models import init_chat_model\n",
    "\n",
    "model = init_chat_model(\"llama3-8b-8192\", model_provider=\"groq\")"
   ]
  },
  {
   "cell_type": "code",
   "execution_count": 10,
   "id": "77dd9f2f-24ec-4bdb-803c-b9a2a75fae3f",
   "metadata": {},
   "outputs": [
    {
     "data": {
      "text/plain": [
       "AIMessage(content='Ciao!', additional_kwargs={}, response_metadata={'token_usage': {'completion_tokens': 4, 'prompt_tokens': 24, 'total_tokens': 28, 'completion_time': 0.003333333, 'prompt_time': 0.004506276, 'queue_time': 0.166631092, 'total_time': 0.007839609}, 'model_name': 'llama3-8b-8192', 'system_fingerprint': 'fp_dadc9d6142', 'finish_reason': 'stop', 'logprobs': None}, id='run--4e0f0d25-4d22-4e98-84f6-2e2addb2411e-0', usage_metadata={'input_tokens': 24, 'output_tokens': 4, 'total_tokens': 28})"
      ]
     },
     "execution_count": 10,
     "metadata": {},
     "output_type": "execute_result"
    }
   ],
   "source": [
    "from langchain_core.messages import HumanMessage, SystemMessage\n",
    "\n",
    "messages = [\n",
    "    SystemMessage(\"Translate the following from English into Italian\"),\n",
    "    HumanMessage(\"hi!\"),\n",
    "]\n",
    "\n",
    "model.invoke(messages)"
   ]
  },
  {
   "cell_type": "markdown",
   "id": "4a54c369-86dc-4aff-8ec9-31318f507454",
   "metadata": {},
   "source": [
    "# Search Engine"
   ]
  },
  {
   "cell_type": "markdown",
   "id": "9eb89576-9a89-4667-b0c2-28bc52485ad4",
   "metadata": {
    "jp-MarkdownHeadingCollapsed": true
   },
   "source": [
    "## Loading up search engine"
   ]
  },
  {
   "cell_type": "markdown",
   "id": "f6ac9b09-34b7-4703-a9de-b313e4a94af0",
   "metadata": {},
   "source": [
    "We will be using Tavily (a search engine) as a tool. In order to use it, you will need to get and set an API key:\n",
    "https://tavily.com/"
   ]
  },
  {
   "cell_type": "code",
   "execution_count": 18,
   "id": "80b00a69-000c-4b30-94d6-42755727481b",
   "metadata": {},
   "outputs": [],
   "source": [
    "from langchain_community.tools.tavily_search import TavilySearchResults\n",
    "from langchain_core.messages import HumanMessage\n",
    "from langgraph.checkpoint.memory import MemorySaver\n",
    "from langgraph.prebuilt import create_react_agent"
   ]
  },
  {
   "cell_type": "code",
   "execution_count": 24,
   "id": "c58d947b-ba75-49b6-8d3d-a242e223f707",
   "metadata": {},
   "outputs": [
    {
     "name": "stdout",
     "output_type": "stream",
     "text": [
      "[{'title': 'Weather in Hong Kong', 'url': 'https://www.weatherapi.com/', 'content': \"{'location': {'name': 'Hong Kong', 'region': '', 'country': 'Hong Kong', 'lat': 22.283, 'lon': 114.15, 'tz_id': 'Asia/Hong_Kong', 'localtime_epoch': 1747043726, 'localtime': '2025-05-12 17:55'}, 'current': {'last_updated_epoch': 1747043100, 'last_updated': '2025-05-12 17:45', 'temp_c': 27.2, 'temp_f': 81.0, 'is_day': 1, 'condition': {'text': 'Sunny', 'icon': '//cdn.weatherapi.com/weather/64x64/day/113.png', 'code': 1000}, 'wind_mph': 12.3, 'wind_kph': 19.8, 'wind_degree': 120, 'wind_dir': 'ESE', 'pressure_mb': 1008.0, 'pressure_in': 29.77, 'precip_mm': 0.0, 'precip_in': 0.0, 'humidity': 48, 'cloud': 0, 'feelslike_c': 29.0, 'feelslike_f': 84.2, 'windchill_c': 24.7, 'windchill_f': 76.4, 'heatindex_c': 26.1, 'heatindex_f': 79.0, 'dewpoint_c': 17.6, 'dewpoint_f': 63.6, 'vis_km': 10.0, 'vis_miles': 6.0, 'uv': 1.3, 'gust_mph': 16.6, 'gust_kph': 26.7}}\", 'score': 0.9876443}, {'title': 'Weather in Hong Kong in May 2025', 'url': 'https://world-weather.info/forecast/china/hong_kong/may-2025/', 'content': 'Weather in Hong Kong in May 2025. Hong Kong Weather Forecast for May 2025 is ... Monday, 12 May. +73°. Day. +82°. Broken clouds. Tuesday, 13 May. +75°. Day. +82', 'score': 0.9511106}]\n"
     ]
    }
   ],
   "source": [
    "# Loading up search engine \n",
    "search = TavilySearchResults(max_results=2)\n",
    "search_results = search.invoke(\"what is the weather in hk\")\n",
    "print(search_results)"
   ]
  },
  {
   "cell_type": "markdown",
   "id": "d4eb0837-98de-4017-8d60-4f2294d813b2",
   "metadata": {
    "jp-MarkdownHeadingCollapsed": true
   },
   "source": [
    "## Combine search engine with LLM by agent"
   ]
  },
  {
   "cell_type": "code",
   "execution_count": 26,
   "id": "45505c07-6070-4d91-b3f2-1c5c4f74373e",
   "metadata": {},
   "outputs": [],
   "source": [
    "tools = [search]\n",
    "model_with_tools = model.bind_tools(tools)"
   ]
  },
  {
   "cell_type": "code",
   "execution_count": 28,
   "id": "80bab206-9433-418c-af8c-6783b774558d",
   "metadata": {
    "scrolled": true
   },
   "outputs": [
    {
     "name": "stdout",
     "output_type": "stream",
     "text": [
      "ContentString: \n",
      "ToolCalls: [{'name': 'tavily_search_results_json', 'args': {'query': \"What's the weather in San Francisco?\"}, 'id': 'call_y72h', 'type': 'tool_call'}]\n"
     ]
    }
   ],
   "source": [
    "response = model_with_tools.invoke([HumanMessage(content=\"What's the weather in SF? You should use web search.\")])\n",
    "\n",
    "print(f\"ContentString: {response.content}\")\n",
    "print(f\"ToolCalls: {response.tool_calls}\")"
   ]
  },
  {
   "cell_type": "markdown",
   "id": "4613c0a4-c588-4bd8-8d04-175eb824ae1a",
   "metadata": {},
   "source": [
    "We can see that there's now no text content, but there is a tool call! It wants us to call the Tavily Search tool.\n",
    "\n",
    "This isn't calling that tool yet - it's just telling us to. In order to actually call it, we'll want to create our agent."
   ]
  },
  {
   "cell_type": "code",
   "execution_count": 29,
   "id": "c71a65b4-7caa-4f5a-af3b-dc918fa627be",
   "metadata": {},
   "outputs": [],
   "source": [
    "from langgraph.prebuilt import create_react_agent\n",
    "\n",
    "agent_executor = create_react_agent(model, tools)"
   ]
  },
  {
   "cell_type": "code",
   "execution_count": 32,
   "id": "cc85dbae-8c5f-49be-ad78-1a889dd374a8",
   "metadata": {},
   "outputs": [
    {
     "data": {
      "text/plain": [
       "[HumanMessage(content=\"What's the weather in SF?\", additional_kwargs={}, response_metadata={}, id='a297c731-228b-4861-b79c-349f4a9b64f3'),\n",
       " AIMessage(content='The current weather in San Francisco is sunny with a high of 68°F (20°C) and a low of 56°F (13°C).', additional_kwargs={}, response_metadata={'token_usage': {'completion_tokens': 31, 'prompt_tokens': 1912, 'total_tokens': 1943, 'completion_time': 0.025833333, 'prompt_time': 0.237873462, 'queue_time': -0.294430081, 'total_time': 0.263706795}, 'model_name': 'llama3-8b-8192', 'system_fingerprint': 'fp_dadc9d6142', 'finish_reason': 'stop', 'logprobs': None}, id='run--9c543b6e-402f-4537-99c5-85fd84227f4f-0', usage_metadata={'input_tokens': 1912, 'output_tokens': 31, 'total_tokens': 1943})]"
      ]
     },
     "execution_count": 32,
     "metadata": {},
     "output_type": "execute_result"
    }
   ],
   "source": [
    "response = agent_executor.invoke(\n",
    "    {\"messages\": [HumanMessage(content=\"What's the weather in SF?\")]}\n",
    ")\n",
    "response[\"messages\"]"
   ]
  },
  {
   "cell_type": "markdown",
   "id": "5403794d-ab51-4a1d-a36d-c36caf12be8a",
   "metadata": {},
   "source": [
    "The above response indicate the model do not use tavily. So, we should add SystemMessage to instruct the agent to use web search if needed"
   ]
  },
  {
   "cell_type": "code",
   "execution_count": 39,
   "id": "d5532533-7950-4d72-8c83-647959ea1f66",
   "metadata": {},
   "outputs": [
    {
     "data": {
      "text/plain": [
       "[SystemMessage(content='Whenever you do not know the answer or need up-to-date information, perform a web search to find accurate and relevant results before responding.', additional_kwargs={}, response_metadata={}, id='6ea97751-6268-4b30-9866-b5328952a886'),\n",
       " HumanMessage(content=\"What's the weather in SF? \", additional_kwargs={}, response_metadata={}, id='0b671691-727e-4040-86d3-d2bf8f52e683'),\n",
       " AIMessage(content='', additional_kwargs={'tool_calls': [{'id': 'call_xpz7', 'function': {'arguments': '{\"query\":\"weather in San Francisco\"}', 'name': 'tavily_search_results_json'}, 'type': 'function'}]}, response_metadata={'token_usage': {'completion_tokens': 80, 'prompt_tokens': 1975, 'total_tokens': 2055, 'completion_time': 0.066666667, 'prompt_time': 0.246168528, 'queue_time': -0.302638948, 'total_time': 0.312835195}, 'model_name': 'llama3-8b-8192', 'system_fingerprint': 'fp_dadc9d6142', 'finish_reason': 'tool_calls', 'logprobs': None}, id='run--9eda1e98-4db8-4a97-98df-f1ff51c1274f-0', tool_calls=[{'name': 'tavily_search_results_json', 'args': {'query': 'weather in San Francisco'}, 'id': 'call_xpz7', 'type': 'tool_call'}], usage_metadata={'input_tokens': 1975, 'output_tokens': 80, 'total_tokens': 2055}),\n",
       " ToolMessage(content='[{\"title\": \"Weather in San Francisco\", \"url\": \"https://www.weatherapi.com/\", \"content\": \"{\\'location\\': {\\'name\\': \\'San Francisco\\', \\'region\\': \\'California\\', \\'country\\': \\'United States of America\\', \\'lat\\': 37.775, \\'lon\\': -122.4183, \\'tz_id\\': \\'America/Los_Angeles\\', \\'localtime_epoch\\': 1747051252, \\'localtime\\': \\'2025-05-12 05:00\\'}, \\'current\\': {\\'last_updated_epoch\\': 1747051200, \\'last_updated\\': \\'2025-05-12 05:00\\', \\'temp_c\\': 13.3, \\'temp_f\\': 55.9, \\'is_day\\': 0, \\'condition\\': {\\'text\\': \\'Overcast\\', \\'icon\\': \\'//cdn.weatherapi.com/weather/64x64/night/122.png\\', \\'code\\': 1009}, \\'wind_mph\\': 11.6, \\'wind_kph\\': 18.7, \\'wind_degree\\': 189, \\'wind_dir\\': \\'S\\', \\'pressure_mb\\': 1014.0, \\'pressure_in\\': 29.94, \\'precip_mm\\': 1.5, \\'precip_in\\': 0.06, \\'humidity\\': 84, \\'cloud\\': 100, \\'feelslike_c\\': 11.6, \\'feelslike_f\\': 53.0, \\'windchill_c\\': 9.1, \\'windchill_f\\': 48.3, \\'heatindex_c\\': 11.0, \\'heatindex_f\\': 51.9, \\'dewpoint_c\\': 10.2, \\'dewpoint_f\\': 50.4, \\'vis_km\\': 16.0, \\'vis_miles\\': 9.0, \\'uv\\': 0.0, \\'gust_mph\\': 16.9, \\'gust_kph\\': 27.3}}\", \"score\": 0.9871103}, {\"title\": \"Monday, May 12, 2025. San Francisco, CA - Weather Forecast\", \"url\": \"https://weathershogun.com/weather/usa/ca/san-francisco/480/may/2025-05-12\", \"content\": \"San Francisco, California Weather: Monday, May 12, 2025. Sunny weather, clear skies and sunny weather. Day 59°. Night 52°. Precipitation 0 %.\", \"score\": 0.9635647}]', name='tavily_search_results_json', id='e8da88fe-abb8-470d-972b-9eb047c1a193', tool_call_id='call_xpz7', artifact={'query': 'weather in San Francisco', 'follow_up_questions': None, 'answer': None, 'images': [], 'results': [{'title': 'Weather in San Francisco', 'url': 'https://www.weatherapi.com/', 'content': \"{'location': {'name': 'San Francisco', 'region': 'California', 'country': 'United States of America', 'lat': 37.775, 'lon': -122.4183, 'tz_id': 'America/Los_Angeles', 'localtime_epoch': 1747051252, 'localtime': '2025-05-12 05:00'}, 'current': {'last_updated_epoch': 1747051200, 'last_updated': '2025-05-12 05:00', 'temp_c': 13.3, 'temp_f': 55.9, 'is_day': 0, 'condition': {'text': 'Overcast', 'icon': '//cdn.weatherapi.com/weather/64x64/night/122.png', 'code': 1009}, 'wind_mph': 11.6, 'wind_kph': 18.7, 'wind_degree': 189, 'wind_dir': 'S', 'pressure_mb': 1014.0, 'pressure_in': 29.94, 'precip_mm': 1.5, 'precip_in': 0.06, 'humidity': 84, 'cloud': 100, 'feelslike_c': 11.6, 'feelslike_f': 53.0, 'windchill_c': 9.1, 'windchill_f': 48.3, 'heatindex_c': 11.0, 'heatindex_f': 51.9, 'dewpoint_c': 10.2, 'dewpoint_f': 50.4, 'vis_km': 16.0, 'vis_miles': 9.0, 'uv': 0.0, 'gust_mph': 16.9, 'gust_kph': 27.3}}\", 'score': 0.9871103, 'raw_content': None}, {'url': 'https://weathershogun.com/weather/usa/ca/san-francisco/480/may/2025-05-12', 'title': 'Monday, May 12, 2025. San Francisco, CA - Weather Forecast', 'content': 'San Francisco, California Weather: Monday, May 12, 2025. Sunny weather, clear skies and sunny weather. Day 59°. Night 52°. Precipitation 0 %.', 'score': 0.9635647, 'raw_content': None}], 'response_time': 1.59}),\n",
       " AIMessage(content='', additional_kwargs={'tool_calls': [{'id': 'call_f9aa', 'function': {'arguments': '{\"query\":\"weather in San Francisco\"}', 'name': 'tavily_search_results_json'}, 'type': 'function'}]}, response_metadata={'token_usage': {'completion_tokens': 77, 'prompt_tokens': 1583, 'total_tokens': 1660, 'completion_time': 0.064166667, 'prompt_time': 0.216922765, 'queue_time': 0.168352955, 'total_time': 0.281089432}, 'model_name': 'llama3-8b-8192', 'system_fingerprint': 'fp_dadc9d6142', 'finish_reason': 'tool_calls', 'logprobs': None}, id='run--47e46143-35cb-4b92-8291-85efe51b0f61-0', tool_calls=[{'name': 'tavily_search_results_json', 'args': {'query': 'weather in San Francisco'}, 'id': 'call_f9aa', 'type': 'tool_call'}], usage_metadata={'input_tokens': 1583, 'output_tokens': 77, 'total_tokens': 1660}),\n",
       " ToolMessage(content='[{\"title\": \"Weather in San Francisco\", \"url\": \"https://www.weatherapi.com/\", \"content\": \"{\\'location\\': {\\'name\\': \\'San Francisco\\', \\'region\\': \\'California\\', \\'country\\': \\'United States of America\\', \\'lat\\': 37.775, \\'lon\\': -122.4183, \\'tz_id\\': \\'America/Los_Angeles\\', \\'localtime_epoch\\': 1747051252, \\'localtime\\': \\'2025-05-12 05:00\\'}, \\'current\\': {\\'last_updated_epoch\\': 1747051200, \\'last_updated\\': \\'2025-05-12 05:00\\', \\'temp_c\\': 13.3, \\'temp_f\\': 55.9, \\'is_day\\': 0, \\'condition\\': {\\'text\\': \\'Overcast\\', \\'icon\\': \\'//cdn.weatherapi.com/weather/64x64/night/122.png\\', \\'code\\': 1009}, \\'wind_mph\\': 11.6, \\'wind_kph\\': 18.7, \\'wind_degree\\': 189, \\'wind_dir\\': \\'S\\', \\'pressure_mb\\': 1014.0, \\'pressure_in\\': 29.94, \\'precip_mm\\': 1.5, \\'precip_in\\': 0.06, \\'humidity\\': 84, \\'cloud\\': 100, \\'feelslike_c\\': 11.6, \\'feelslike_f\\': 53.0, \\'windchill_c\\': 9.1, \\'windchill_f\\': 48.3, \\'heatindex_c\\': 11.0, \\'heatindex_f\\': 51.9, \\'dewpoint_c\\': 10.2, \\'dewpoint_f\\': 50.4, \\'vis_km\\': 16.0, \\'vis_miles\\': 9.0, \\'uv\\': 0.0, \\'gust_mph\\': 16.9, \\'gust_kph\\': 27.3}}\", \"score\": 0.9871103}, {\"title\": \"Monday, May 12, 2025. San Francisco, CA - Weather Forecast\", \"url\": \"https://weathershogun.com/weather/usa/ca/san-francisco/480/may/2025-05-12\", \"content\": \"San Francisco, California Weather: Monday, May 12, 2025. Sunny weather, clear skies and sunny weather. Day 59°. Night 52°. Precipitation 0 %.\", \"score\": 0.9635647}]', name='tavily_search_results_json', id='217b2681-8c38-4517-90b6-0296c59ae0ce', tool_call_id='call_f9aa', artifact={'query': 'weather in San Francisco', 'follow_up_questions': None, 'answer': None, 'images': [], 'results': [{'title': 'Weather in San Francisco', 'url': 'https://www.weatherapi.com/', 'content': \"{'location': {'name': 'San Francisco', 'region': 'California', 'country': 'United States of America', 'lat': 37.775, 'lon': -122.4183, 'tz_id': 'America/Los_Angeles', 'localtime_epoch': 1747051252, 'localtime': '2025-05-12 05:00'}, 'current': {'last_updated_epoch': 1747051200, 'last_updated': '2025-05-12 05:00', 'temp_c': 13.3, 'temp_f': 55.9, 'is_day': 0, 'condition': {'text': 'Overcast', 'icon': '//cdn.weatherapi.com/weather/64x64/night/122.png', 'code': 1009}, 'wind_mph': 11.6, 'wind_kph': 18.7, 'wind_degree': 189, 'wind_dir': 'S', 'pressure_mb': 1014.0, 'pressure_in': 29.94, 'precip_mm': 1.5, 'precip_in': 0.06, 'humidity': 84, 'cloud': 100, 'feelslike_c': 11.6, 'feelslike_f': 53.0, 'windchill_c': 9.1, 'windchill_f': 48.3, 'heatindex_c': 11.0, 'heatindex_f': 51.9, 'dewpoint_c': 10.2, 'dewpoint_f': 50.4, 'vis_km': 16.0, 'vis_miles': 9.0, 'uv': 0.0, 'gust_mph': 16.9, 'gust_kph': 27.3}}\", 'score': 0.9871103, 'raw_content': None}, {'url': 'https://weathershogun.com/weather/usa/ca/san-francisco/480/may/2025-05-12', 'title': 'Monday, May 12, 2025. San Francisco, CA - Weather Forecast', 'content': 'San Francisco, California Weather: Monday, May 12, 2025. Sunny weather, clear skies and sunny weather. Day 59°. Night 52°. Precipitation 0 %.', 'score': 0.9635647, 'raw_content': None}], 'response_time': 1.68}),\n",
       " AIMessage(content='The weather in San Francisco is currently overcast with a temperature of 13.3°C (55.9°F) and a humidity of 84%. The wind is coming from the south at a speed of 18.7 km/h (11.6 mph).', additional_kwargs={}, response_metadata={'token_usage': {'completion_tokens': 55, 'prompt_tokens': 2189, 'total_tokens': 2244, 'completion_time': 0.045833333, 'prompt_time': 0.398682062, 'queue_time': 0.16892653599999996, 'total_time': 0.444515395}, 'model_name': 'llama3-8b-8192', 'system_fingerprint': 'fp_dadc9d6142', 'finish_reason': 'stop', 'logprobs': None}, id='run--642487de-ed23-44bc-928d-7201fce96aaa-0', usage_metadata={'input_tokens': 2189, 'output_tokens': 55, 'total_tokens': 2244})]"
      ]
     },
     "execution_count": 39,
     "metadata": {},
     "output_type": "execute_result"
    }
   ],
   "source": [
    "# Adding SystemMessage to instruct the agent to use web search if needed\n",
    "response = agent_executor.invoke(\n",
    "    {\"messages\": [SystemMessage(content='Whenever you do not know the answer or need up-to-date information, perform a web search to find accurate and relevant results before responding.'), \n",
    "                  HumanMessage(content=\"What's the weather in SF? \")]}\n",
    ")\n",
    "response[\"messages\"]"
   ]
  },
  {
   "cell_type": "markdown",
   "id": "a90a81f4-ac11-4839-bb60-c331eb4e1581",
   "metadata": {},
   "source": [
    "## Adding in memory"
   ]
  },
  {
   "cell_type": "markdown",
   "id": "6d4a3d31-12de-477b-8eee-5663e91a5cef",
   "metadata": {},
   "source": [
    "The agent is stateless without MemorySaver. To make it knows which thread/conversation to resume from, we also have to pass in a thread_id when invoking the agent. \n",
    "Use LangGraph SqliteSaver or PostgresSaver and connect a database for persistent store. "
   ]
  },
  {
   "cell_type": "code",
   "execution_count": 40,
   "id": "0733dd58-00f5-42ec-bcf1-87c43f2c723f",
   "metadata": {},
   "outputs": [],
   "source": [
    "from langgraph.checkpoint.memory import MemorySaver\n",
    "\n",
    "# In-Memory Saver, for demo only\n",
    "memory = MemorySaver()"
   ]
  },
  {
   "cell_type": "code",
   "execution_count": 41,
   "id": "f63cf1ec-4189-4263-8441-965018bf459b",
   "metadata": {},
   "outputs": [],
   "source": [
    "agent_executor = create_react_agent(model, tools, checkpointer=memory)\n",
    "\n",
    "# Change thread_id for different conversation\n",
    "config = {\"configurable\": {\"thread_id\": \"abc123\"}}"
   ]
  },
  {
   "cell_type": "code",
   "execution_count": 42,
   "id": "f5503451-c47f-4f74-b31c-4a3aac13e570",
   "metadata": {},
   "outputs": [
    {
     "name": "stdout",
     "output_type": "stream",
     "text": [
      "{'agent': {'messages': [AIMessage(content='Hi Bob!', additional_kwargs={}, response_metadata={'token_usage': {'completion_tokens': 4, 'prompt_tokens': 1906, 'total_tokens': 1910, 'completion_time': 0.003333333, 'prompt_time': 0.237213137, 'queue_time': -0.289303203, 'total_time': 0.24054647}, 'model_name': 'llama3-8b-8192', 'system_fingerprint': 'fp_179b0f92c9', 'finish_reason': 'stop', 'logprobs': None}, id='run--86f814cc-e641-44a9-81ef-828fc8c82ab5-0', usage_metadata={'input_tokens': 1906, 'output_tokens': 4, 'total_tokens': 1910})]}}\n",
      "----\n"
     ]
    }
   ],
   "source": [
    "# 1st conversation\n",
    "for chunk in agent_executor.stream(\n",
    "    {\"messages\": [HumanMessage(content=\"hi im bob!\")]}, config\n",
    "):\n",
    "    print(chunk)\n",
    "    print(\"----\")"
   ]
  },
  {
   "cell_type": "code",
   "execution_count": 43,
   "id": "9503d728-a9f8-49d6-81b4-84908a5aff69",
   "metadata": {},
   "outputs": [
    {
     "name": "stdout",
     "output_type": "stream",
     "text": [
      "{'agent': {'messages': [AIMessage(content='Your name is Bob!', additional_kwargs={}, response_metadata={'token_usage': {'completion_tokens': 6, 'prompt_tokens': 961, 'total_tokens': 967, 'completion_time': 0.005, 'prompt_time': 0.119936318, 'queue_time': 0.166901968, 'total_time': 0.124936318}, 'model_name': 'llama3-8b-8192', 'system_fingerprint': 'fp_dadc9d6142', 'finish_reason': 'stop', 'logprobs': None}, id='run--6cea7bf1-1f1f-42f5-88b7-c3f43cec57b5-0', usage_metadata={'input_tokens': 961, 'output_tokens': 6, 'total_tokens': 967})]}}\n",
      "----\n"
     ]
    }
   ],
   "source": [
    "# 2nd conversation\n",
    "for chunk in agent_executor.stream(\n",
    "    {\"messages\": [HumanMessage(content=\"whats my name?\")]}, config\n",
    "):\n",
    "    print(chunk)\n",
    "    print(\"----\")"
   ]
  },
  {
   "cell_type": "markdown",
   "id": "e6652931-ea8f-43df-8884-89df1248d3bc",
   "metadata": {},
   "source": [
    "The agent replied \"Your name is Bob!\" which means it remember the conversation. "
   ]
  },
  {
   "cell_type": "markdown",
   "id": "e061fdb3-0a4f-4496-bc90-01a11da5b3fb",
   "metadata": {},
   "source": [
    "### PostgreSQL as Memory Store"
   ]
  },
  {
   "cell_type": "code",
   "execution_count": 29,
   "id": "2cb63550-8aa8-44d0-a2f9-a9c9716c0af9",
   "metadata": {},
   "outputs": [],
   "source": [
    "import os\n",
    "from dotenv import load_dotenv\n",
    "\n",
    "# Load environment variables from .env file\n",
    "load_dotenv()\n",
    "\n",
    "# Get the database URL\n",
    "DATABASE_URL = os.getenv('DATABASE_URL')"
   ]
  },
  {
   "cell_type": "code",
   "execution_count": 48,
   "id": "32f8277a-b4b2-4116-8468-16496c4c7d6b",
   "metadata": {
    "scrolled": true
   },
   "outputs": [
    {
     "name": "stdout",
     "output_type": "stream",
     "text": [
      "================================\u001b[1m Human Message \u001b[0m=================================\n",
      "\n",
      "Hi! Remember: my name is Bob\n",
      "==================================\u001b[1m Ai Message \u001b[0m==================================\n",
      "\n",
      "Hello Bob! I remember your name is Bob.\n",
      "================================\u001b[1m Human Message \u001b[0m=================================\n",
      "\n",
      "what is my name?\n",
      "==================================\u001b[1m Ai Message \u001b[0m==================================\n",
      "\n",
      "Your name is Bob! Nice to meet you, Bob!\n"
     ]
    }
   ],
   "source": [
    "from langchain_core.runnables import RunnableConfig\n",
    "from langchain.chat_models import init_chat_model\n",
    "from langgraph.graph import StateGraph, MessagesState, START\n",
    "from langgraph.checkpoint.postgres import PostgresSaver\n",
    "from langgraph.store.postgres import PostgresStore\n",
    "from langgraph.store.base import BaseStore\n",
    "import uuid\n",
    "\n",
    "with (\n",
    "    PostgresStore.from_conn_string(DATABASE_URL) as store,\n",
    "    PostgresSaver.from_conn_string(DATABASE_URL) as checkpointer,\n",
    "):\n",
    "    #store.setup()\n",
    "    #checkpointer.setup()\n",
    "\n",
    "    def call_model(\n",
    "        state: MessagesState,\n",
    "        config: RunnableConfig,\n",
    "        *,\n",
    "        store: BaseStore,\n",
    "    ):\n",
    "        user_id = config[\"configurable\"][\"user_id\"]\n",
    "        namespace = (\"memories\", user_id)\n",
    "        memories = store.search(namespace, query=str(state[\"messages\"][-1].content))\n",
    "        info = \"\\n\".join([d.value[\"data\"] for d in memories])\n",
    "        system_msg = f\"You are a helpful assistant talking to the user. User info: {info}\"\n",
    "\n",
    "        # Store new memories if the user asks the model to remember\n",
    "        last_message = state[\"messages\"][-1]\n",
    "        if \"remember\" in last_message.content.lower():\n",
    "            memory = \"User name is Bob\"\n",
    "            store.put(namespace, str(uuid.uuid4()), {\"data\": memory})\n",
    "\n",
    "        response = model.invoke(\n",
    "            [{\"role\": \"system\", \"content\": system_msg}] + state[\"messages\"]\n",
    "        )\n",
    "        return {\"messages\": response}\n",
    "\n",
    "    builder = StateGraph(MessagesState)\n",
    "    builder.add_node(call_model)\n",
    "    builder.add_edge(START, \"call_model\")\n",
    "\n",
    "    graph = builder.compile(\n",
    "        checkpointer=checkpointer,\n",
    "        store=store,\n",
    "    )\n",
    "\n",
    "    config = {\n",
    "        \"configurable\": {\n",
    "            \"thread_id\": \"1\",\n",
    "            \"user_id\": \"1\",\n",
    "        }\n",
    "    }\n",
    "    for chunk in graph.stream(\n",
    "        {\"messages\": [{\"role\": \"user\", \"content\": \"Hi! Remember: my name is Bob\"}]},\n",
    "        config,\n",
    "        stream_mode=\"values\",\n",
    "    ):\n",
    "        chunk[\"messages\"][-1].pretty_print()\n",
    "\n",
    "    config = {\n",
    "        \"configurable\": {\n",
    "            \"thread_id\": \"2\",\n",
    "            \"user_id\": \"1\",\n",
    "        }\n",
    "    }\n",
    "\n",
    "    for chunk in graph.stream(\n",
    "        {\"messages\": [{\"role\": \"user\", \"content\": \"what is my name?\"}]},\n",
    "        config,\n",
    "        stream_mode=\"values\",\n",
    "    ):\n",
    "        chunk[\"messages\"][-1].pretty_print()"
   ]
  }
 ],
 "metadata": {
  "kernelspec": {
   "display_name": "Python 3 (ipykernel)",
   "language": "python",
   "name": "python3"
  },
  "language_info": {
   "codemirror_mode": {
    "name": "ipython",
    "version": 3
   },
   "file_extension": ".py",
   "mimetype": "text/x-python",
   "name": "python",
   "nbconvert_exporter": "python",
   "pygments_lexer": "ipython3",
   "version": "3.12.11"
  }
 },
 "nbformat": 4,
 "nbformat_minor": 5
}
