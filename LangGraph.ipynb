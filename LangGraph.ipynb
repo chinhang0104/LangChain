{
 "cells": [
  {
   "cell_type": "markdown",
   "id": "78b37985-1913-40a1-9ec3-7aad7c6e7564",
   "metadata": {},
   "source": [
    "# Chatbot with LangGraph "
   ]
  },
  {
   "cell_type": "markdown",
   "id": "5c7408f9-cb6e-4706-9d5b-6b539a0f0e0e",
   "metadata": {
    "jp-MarkdownHeadingCollapsed": true
   },
   "source": [
    "## Set up Groq and Tavily"
   ]
  },
  {
   "cell_type": "code",
   "execution_count": 1,
   "id": "512cb07e-e632-46c1-9f77-f72df49a3ecc",
   "metadata": {},
   "outputs": [
    {
     "name": "stdin",
     "output_type": "stream",
     "text": [
      "Enter API key for Groq:  ········\n"
     ]
    }
   ],
   "source": [
    "import getpass\n",
    "import os\n",
    "\n",
    "# Set up Groq, the LLM\n",
    "if not os.environ.get(\"GROQ_API_KEY\"):\n",
    "  os.environ[\"GROQ_API_KEY\"] = getpass.getpass(\"Enter API key for Groq: \")"
   ]
  },
  {
   "cell_type": "code",
   "execution_count": 2,
   "id": "3f1f4367-5504-4319-a769-882b8c98615b",
   "metadata": {},
   "outputs": [],
   "source": [
    "from langchain.chat_models import init_chat_model\n",
    "\n",
    "llm = init_chat_model(\"llama3-8b-8192\", model_provider=\"groq\")"
   ]
  },
  {
   "cell_type": "code",
   "execution_count": 3,
   "id": "2c0c2212-e4bf-4ceb-b00c-afc565ffa609",
   "metadata": {},
   "outputs": [
    {
     "name": "stdin",
     "output_type": "stream",
     "text": [
      "Enter API key for Tavily:  ········\n"
     ]
    }
   ],
   "source": [
    "# Set up Tavily, the search engine\n",
    "if not os.environ.get(\"TAVILY_API_KEY\"):\n",
    "  os.environ[\"TAVILY_API_KEY\"] = getpass.getpass(\"Enter API key for Tavily: \")"
   ]
  },
  {
   "cell_type": "code",
   "execution_count": 4,
   "id": "439d2053-1c49-4bcb-90cc-22617d3166e1",
   "metadata": {},
   "outputs": [],
   "source": [
    "from langchain_community.tools.tavily_search import TavilySearchResults\n",
    "search = TavilySearchResults(max_results=2)\n",
    "tools = [search]"
   ]
  },
  {
   "cell_type": "code",
   "execution_count": 6,
   "id": "d9b878af-bf04-437b-874d-9159c6f735b0",
   "metadata": {},
   "outputs": [],
   "source": [
    "# tell the LLM which tools it can call\n",
    "llm_with_tools = llm.bind_tools(tools)"
   ]
  },
  {
   "cell_type": "markdown",
   "id": "87ed84ee-d5fc-42d7-8c58-a619633d67f6",
   "metadata": {},
   "source": [
    "## LangGraph"
   ]
  },
  {
   "cell_type": "code",
   "execution_count": 7,
   "id": "cc35f51b-c5ff-4bf0-989b-5754e0554bd6",
   "metadata": {},
   "outputs": [
    {
     "data": {
      "text/plain": [
       "<langgraph.graph.state.StateGraph at 0x19ac6aa4250>"
      ]
     },
     "execution_count": 7,
     "metadata": {},
     "output_type": "execute_result"
    }
   ],
   "source": [
    "# Incorporate it into a StateGraph\n",
    "from typing import Annotated\n",
    "\n",
    "from typing_extensions import TypedDict\n",
    "\n",
    "from langgraph.graph import StateGraph, START, END\n",
    "from langgraph.graph.message import add_messages\n",
    "from langgraph.checkpoint.memory import MemorySaver\n",
    "\n",
    "# The class is a dict to store messages returned by llm\n",
    "# The key \"messages\" has a value of list\n",
    "# The update rule of \"messages\" value is appending the list instead of overwritting it\n",
    "class State(TypedDict):\n",
    "    messages: Annotated[list, add_messages]\n",
    "\n",
    "graph_builder = StateGraph(State)\n",
    "\n",
    "def chatbot(state: State):\n",
    "    return {\"messages\": [llm_with_tools.invoke(state[\"messages\"])]}\n",
    "\n",
    "graph_builder.add_node(\"chatbot\", chatbot)"
   ]
  },
  {
   "cell_type": "code",
   "execution_count": 8,
   "id": "6ee204a8-e1e9-405a-9e22-007bfe6d2574",
   "metadata": {},
   "outputs": [
    {
     "data": {
      "text/plain": [
       "<langgraph.graph.state.StateGraph at 0x19ac6aa4250>"
      ]
     },
     "execution_count": 8,
     "metadata": {},
     "output_type": "execute_result"
    }
   ],
   "source": [
    "# Create a function to run the tools\n",
    "import json\n",
    "\n",
    "from langchain_core.messages import ToolMessage\n",
    "\n",
    "\n",
    "class BasicToolNode:\n",
    "    \"\"\"A node that runs the tools requested in the last AIMessage.\"\"\"\n",
    "\n",
    "    def __init__(self, tools: list) -> None:\n",
    "        # dict of tools\n",
    "        self.tools_by_name = {tool.name: tool for tool in tools}\n",
    "\n",
    "    def __call__(self, inputs: dict):\n",
    "        # get the most recent message in the state dict\n",
    "        if messages := inputs.get(\"messages\", []):\n",
    "            message = messages[-1]\n",
    "        else:\n",
    "            raise ValueError(\"No message found in input\")\n",
    "        outputs = []\n",
    "        # calls tools if the message contains tool_calls\n",
    "        for tool_call in message.tool_calls:\n",
    "            tool_result = self.tools_by_name[tool_call[\"name\"]].invoke(\n",
    "                tool_call[\"args\"]\n",
    "            )\n",
    "            outputs.append(\n",
    "                ToolMessage(\n",
    "                    content=json.dumps(tool_result),\n",
    "                    name=tool_call[\"name\"],\n",
    "                    tool_call_id=tool_call[\"id\"],\n",
    "                )\n",
    "            )\n",
    "        return {\"messages\": outputs}\n",
    "\n",
    "tool_node = BasicToolNode(tools=[search])\n",
    "graph_builder.add_node(\"tools\", tool_node)"
   ]
  },
  {
   "cell_type": "code",
   "execution_count": 9,
   "id": "26435c98-6d43-47d4-acb6-37882165da28",
   "metadata": {},
   "outputs": [],
   "source": [
    "# Define the conditional_edges\n",
    "def route_tools(\n",
    "    state: State,\n",
    "):\n",
    "    \"\"\"\n",
    "    Use in the conditional_edge to route to the ToolNode if the last message\n",
    "    has tool calls. Otherwise, route to the end.\n",
    "    \"\"\"\n",
    "    if isinstance(state, list):\n",
    "        ai_message = state[-1]\n",
    "    elif messages := state.get(\"messages\", []):\n",
    "        ai_message = messages[-1]\n",
    "    else:\n",
    "        raise ValueError(f\"No messages found in input state to tool_edge: {state}\")\n",
    "    if hasattr(ai_message, \"tool_calls\") and len(ai_message.tool_calls) > 0:\n",
    "        return \"tools\"\n",
    "    return END\n",
    "\n",
    "\n",
    "# The `tools_condition` function returns \"tools\" if the chatbot asks to use a tool, and \"END\" if\n",
    "# it is fine directly responding. This conditional routing defines the main agent loop.\n",
    "graph_builder.add_conditional_edges(\n",
    "    \"chatbot\",\n",
    "    route_tools,\n",
    "    # The following dictionary lets you tell the graph to interpret the condition's outputs as a specific node\n",
    "    # It defaults to the identity function, but if you\n",
    "    # want to use a node named something else apart from \"tools\",\n",
    "    # You can update the value of the dictionary to something else\n",
    "    # e.g., \"tools\": \"my_tools\"\n",
    "    {\"tools\": \"tools\", END: END},\n",
    ")\n",
    "# Any time a tool is called, we return to the chatbot to decide the next step\n",
    "graph_builder.add_edge(\"tools\", \"chatbot\")\n",
    "graph_builder.add_edge(START, \"chatbot\")\n",
    "\n",
    "# MemorySaver helps remember chat history\n",
    "# Use SqliteSaver or PostgresSaver and connect a database for persistent store. \n",
    "memory = MemorySaver() # In-Memory Saver, for demo only\n",
    "graph = graph_builder.compile(checkpointer=memory)"
   ]
  },
  {
   "cell_type": "code",
   "execution_count": 10,
   "id": "bbc441ef-f711-420b-a757-4822fce4a07f",
   "metadata": {},
   "outputs": [
    {
     "data": {
      "image/png": "[encoded data removed]",
      "text/plain": [
       "<IPython.core.display.Image object>"
      ]
     },
     "metadata": {},
     "output_type": "display_data"
    }
   ],
   "source": [
    "# Visualize the graph\n",
    "from IPython.display import Image, display\n",
    "\n",
    "try:\n",
    "    display(Image(graph.get_graph().draw_mermaid_png()))\n",
    "except Exception:\n",
    "    pass"
   ]
  },
  {
   "cell_type": "code",
   "execution_count": 21,
   "id": "4f06fcf8-b1af-4d1a-97eb-d58e4159a4cf",
   "metadata": {},
   "outputs": [],
   "source": [
    "# Change thread_id for different conversation\n",
    "config = {\"configurable\": {\"thread_id\": \"2\"}}"
   ]
  },
  {
   "cell_type": "code",
   "execution_count": 13,
   "id": "3bfa645f-ff7b-4d48-9356-f770176d3490",
   "metadata": {},
   "outputs": [],
   "source": [
    "# Set up system message, set None to disable\n",
    "system_message = 'Whenever you do not know the answer or need up-to-date information, perform a web search to find accurate and relevant results before responding.'"
   ]
  },
  {
   "cell_type": "code",
   "execution_count": 14,
   "id": "2b51d410-88f5-496b-afac-581f5269f02f",
   "metadata": {},
   "outputs": [],
   "source": [
    "def stream_graph_updates(user_input: str):\n",
    "    if system_message:        \n",
    "        messages = [{\"role\": \"system\", \"content\": system_message}, {\"role\": \"user\", \"content\": user_input}]\n",
    "    else:\n",
    "        messages = [{\"role\": \"user\", \"content\": user_input}]\n",
    "    events = graph.stream(\n",
    "    {\"messages\": messages},\n",
    "    config,\n",
    "    stream_mode=\"values\",)\n",
    "    for event in events:\n",
    "        event[\"messages\"][-1].pretty_print()"
   ]
  },
  {
   "cell_type": "code",
   "execution_count": 22,
   "id": "74e9561f-a432-4da5-8663-2c59c2b71037",
   "metadata": {},
   "outputs": [
    {
     "name": "stdin",
     "output_type": "stream",
     "text": [
      "User:  What is the history of Hong Kong?\n"
     ]
    },
    {
     "name": "stdout",
     "output_type": "stream",
     "text": [
      "================================\u001b[1m Human Message \u001b[0m=================================\n",
      "\n",
      "What is the history of Hong Kong?\n",
      "==================================\u001b[1m Ai Message \u001b[0m==================================\n",
      "Tool Calls:\n",
      "  tavily_search_results_json (call_wmyr)\n",
      " Call ID: call_wmyr\n",
      "  Args:\n",
      "    query: Hong Kong history\n",
      "=================================\u001b[1m Tool Message \u001b[0m=================================\n",
      "Name: tavily_search_results_json\n",
      "\n",
      "[{\"title\": \"History of Hong Kong - Wikipedia\", \"url\": \"https://en.wikipedia.org/wiki/History_of_Hong_Kong\", \"content\": \"In the mid-17th century, after the Great Clearance policy which purged most of the region's population, under the Kangxi Emperor order, many Hakka people migrated from inland China to Xin'an County, which included modern Hong Kong.\\nDuring the Ming and Qing dynasties, Hong Kong remained under the governance of Xin'an County (renamed from Bao'an County), before it was colonised by the British. As a military outpost and trading port, Hong Kong's territory gained the attention of the world. [...] Published Time: 2001-05-04T15:16:37Z\\nJump to content\\nMain menu\\nSearch\\nDonate\\nCreate account\\nLog in\\nPersonal tools\\nToggle the table of contents\\nHistory of Hong Kong\\n19 languages\\nArticle\\nTalk\\nRead\\nEdit\\nView history\\nTools\\nFrom Wikipedia, the free encyclopedia\\nThis article is part of a series on the\\nHistory of Hong Kong\\nTimeline\\nPrehistoric\\nImperial\\u00a0\\u00a0(221 BC \\u2013 1800s)\\nBao'an County and Xin'an County\\nBritish Hong Kong (1841\\u20131941, 1945\\u20131997)\\nColonial\\u00a0\\u00a0(1800s\\u20131930s)\\nConvention of Chuenpi [...] Liu, Shuyong; Wang, Wenjiong; Chang, Mingyu (1997). An Outline History of Hong Kong. Foreign Languages Press. p.\\u00a0291. ISBN\\u00a0978-7-119-01946-8.\\nNgo, Tak-Wing (1 August 1999). Hong Kong's History: State and Society Under Colonial Rule. Routledge. p.\\u00a0205. ISBN\\u00a0978-0-415-20868-0.\\nSiu-Kai, Lau. \\\"The Hong Kong Policy of the People's Republic of China, 1949-1997.\\\" Journal of Contemporary China 9.23 (2000): 77\\u201393.\", \"score\": 0.79901963}, {\"title\": \"Hong Kong - Wikipedia\", \"url\": \"https://zh.wikipedia.org/wiki/w:Hong_Kong\", \"content\": \"Hong Kong was established as a colony of the British Empire after the Qing dynasty ceded Hong Kong Island in 1841\\u20131842 as a consequence of losing the First Opium War. The colony expanded to the Kowloon Peninsula in 1860 and was further extended when the United Kingdom obtained a 99-year lease of the New Territories in 1898. Hong Kong was occupied by Japan from 1941 to 1945 during World War II. The territory was handed over from the United Kingdom to China in 1997. Hong Kong maintains separate\", \"score\": 0.78749067}]\n",
      "==================================\u001b[1m Ai Message \u001b[0m==================================\n",
      "\n",
      "Based on the results from the tool call, here is a summary of the history of Hong Kong:\n",
      "\n",
      "Hong Kong has a long and complex history that spans thousands of years. The earliest known human presence in the region dates back to the Paleolithic era, around 6,000 to 7,000 years ago. The region was later inhabited by the Tanka people, who were fishing communities.\n",
      "\n",
      "In the 17th century, the Great Clearance policy led to the migration of Hakka people from inland China to Xin'an County, which included modern Hong Kong. During the Ming and Qing dynasties, Hong Kong remained under the governance of Xin'an County before it was colonized by the British.\n",
      "\n",
      "The British established Hong Kong as a colony in 1841, after the Qing dynasty ceded Hong Kong Island in the aftermath of the First Opium War. The colony expanded to the Kowloon Peninsula in 1860 and was further extended when the United Kingdom obtained a 99-year lease of the New Territories in 1898.\n",
      "\n",
      "Hong Kong was occupied by Japan during World War II from 1941 to 1945. After the war, the British returned to Hong Kong and maintained control until 1997, when the territory was handed over to China.\n",
      "\n",
      "Today, Hong Kong is a Special Administrative Region of China, with a high degree of autonomy and a unique blend of Chinese and Western cultures.\n"
     ]
    },
    {
     "name": "stdin",
     "output_type": "stream",
     "text": [
      "User:  What is the GDP of it?\n"
     ]
    },
    {
     "name": "stdout",
     "output_type": "stream",
     "text": [
      "================================\u001b[1m Human Message \u001b[0m=================================\n",
      "\n",
      "What is the GDP of it?\n",
      "==================================\u001b[1m Ai Message \u001b[0m==================================\n",
      "Tool Calls:\n",
      "  tavily_search_results_json (call_4jkp)\n",
      " Call ID: call_4jkp\n",
      "  Args:\n",
      "    query: Hong Kong GDP\n",
      "=================================\u001b[1m Tool Message \u001b[0m=================================\n",
      "Name: tavily_search_results_json\n",
      "\n",
      "[{\"title\": \"Hong Kong GDP - Trading Economics\", \"url\": \"https://tradingeconomics.com/hong-kong/gdp\", \"content\": \"The Gross Domestic Product (GDP) in Hong Kong was worth 380.81 billion US dollars in 2023, according to official data from the World Bank. The GDP value of\", \"score\": 0.9454852}, {\"title\": \"Hong Kong GDP: $339 Billion - World Economics\", \"url\": \"https://www.worldeconomics.com/GrossDomesticProduct/Real-GDP/Hong%20Kong.aspx\", \"content\": \"GDP in Hong Kong is estimated to be $339 Billion US dollars at the end of 2024 in Real GDP terms.\", \"score\": 0.9392538}]\n",
      "==================================\u001b[1m Ai Message \u001b[0m==================================\n",
      "\n",
      "According to the results from the tool call, the GDP of Hong Kong is approximately $380.81 billion US dollars in 2023, according to the World Bank. Alternatively, it is estimated to be $339 billion US dollars in Real GDP terms at the end of 2024, according to World Economics.\n"
     ]
    },
    {
     "name": "stdin",
     "output_type": "stream",
     "text": [
      "User:  q\n"
     ]
    },
    {
     "name": "stdout",
     "output_type": "stream",
     "text": [
      "Goodbye!\n"
     ]
    }
   ],
   "source": [
    "# Ask the bot questions\n",
    "while True:\n",
    "    user_input = input(\"User: \")\n",
    "    if user_input.lower() in [\"quit\", \"exit\", \"q\"]:\n",
    "        print(\"Goodbye!\")\n",
    "        break\n",
    "    stream_graph_updates(user_input)"
   ]
  },
  {
   "cell_type": "markdown",
   "id": "e0748ca1-d6a7-407d-a262-69ae73fbd119",
   "metadata": {},
   "source": [
    "The chatbot remember the city and search the web successfully."
   ]
  },
  {
   "cell_type": "code",
   "execution_count": 23,
   "id": "10fb103d-c9d7-48f2-8cfa-358cc327ee62",
   "metadata": {},
   "outputs": [
    {
     "data": {
      "text/plain": [
       "StateSnapshot(values={'messages': [SystemMessage(content='Whenever you do not know the answer or need up-to-date information, perform a web search to find accurate and relevant results before responding.', additional_kwargs={}, response_metadata={}, id='d7438317-7137-422e-8e24-72d1d6d68587'), HumanMessage(content='What is the history of Hong Kong?', additional_kwargs={}, response_metadata={}, id='bb203a1e-6c81-4392-8bde-67ff8de32855'), AIMessage(content='', additional_kwargs={'tool_calls': [{'id': 'call_wmyr', 'function': {'arguments': '{\"query\":\"Hong Kong history\"}', 'name': 'tavily_search_results_json'}, 'type': 'function'}]}, response_metadata={'token_usage': {'completion_tokens': 90, 'prompt_tokens': 974, 'total_tokens': 1064, 'completion_time': 0.075, 'prompt_time': 0.125046254, 'queue_time': 0.164725221, 'total_time': 0.200046254}, 'model_name': 'llama3-8b-8192', 'system_fingerprint': 'fp_dadc9d6142', 'finish_reason': 'tool_calls', 'logprobs': None}, id='run--1fe94124-bad1-4b57-ae47-c40058714792-0', tool_calls=[{'name': 'tavily_search_results_json', 'args': {'query': 'Hong Kong history'}, 'id': 'call_wmyr', 'type': 'tool_call'}], usage_metadata={'input_tokens': 974, 'output_tokens': 90, 'total_tokens': 1064}), ToolMessage(content='[{\"title\": \"History of Hong Kong - Wikipedia\", \"url\": \"https://en.wikipedia.org/wiki/History_of_Hong_Kong\", \"content\": \"In the mid-17th century, after the Great Clearance policy which purged most of the region\\'s population, under the Kangxi Emperor order, many Hakka people migrated from inland China to Xin\\'an County, which included modern Hong Kong.\\\\nDuring the Ming and Qing dynasties, Hong Kong remained under the governance of Xin\\'an County (renamed from Bao\\'an County), before it was colonised by the British. As a military outpost and trading port, Hong Kong\\'s territory gained the attention of the world. [...] Published Time: 2001-05-04T15:16:37Z\\\\nJump to content\\\\nMain menu\\\\nSearch\\\\nDonate\\\\nCreate account\\\\nLog in\\\\nPersonal tools\\\\nToggle the table of contents\\\\nHistory of Hong Kong\\\\n19 languages\\\\nArticle\\\\nTalk\\\\nRead\\\\nEdit\\\\nView history\\\\nTools\\\\nFrom Wikipedia, the free encyclopedia\\\\nThis article is part of a series on the\\\\nHistory of Hong Kong\\\\nTimeline\\\\nPrehistoric\\\\nImperial\\\\u00a0\\\\u00a0(221 BC \\\\u2013 1800s)\\\\nBao\\'an County and Xin\\'an County\\\\nBritish Hong Kong (1841\\\\u20131941, 1945\\\\u20131997)\\\\nColonial\\\\u00a0\\\\u00a0(1800s\\\\u20131930s)\\\\nConvention of Chuenpi [...] Liu, Shuyong; Wang, Wenjiong; Chang, Mingyu (1997). An Outline History of Hong Kong. Foreign Languages Press. p.\\\\u00a0291. ISBN\\\\u00a0978-7-119-01946-8.\\\\nNgo, Tak-Wing (1 August 1999). Hong Kong\\'s History: State and Society Under Colonial Rule. Routledge. p.\\\\u00a0205. ISBN\\\\u00a0978-0-415-20868-0.\\\\nSiu-Kai, Lau. \\\\\"The Hong Kong Policy of the People\\'s Republic of China, 1949-1997.\\\\\" Journal of Contemporary China 9.23 (2000): 77\\\\u201393.\", \"score\": 0.79901963}, {\"title\": \"Hong Kong - Wikipedia\", \"url\": \"https://zh.wikipedia.org/wiki/w:Hong_Kong\", \"content\": \"Hong Kong was established as a colony of the British Empire after the Qing dynasty ceded Hong Kong Island in 1841\\\\u20131842 as a consequence of losing the First Opium War. The colony expanded to the Kowloon Peninsula in 1860 and was further extended when the United Kingdom obtained a 99-year lease of the New Territories in 1898. Hong Kong was occupied by Japan from 1941 to 1945 during World War II. The territory was handed over from the United Kingdom to China in 1997. Hong Kong maintains separate\", \"score\": 0.78749067}]', name='tavily_search_results_json', id='ee732e17-cb08-41f8-9d8a-ac2f391ce156', tool_call_id='call_wmyr'), AIMessage(content=\"Based on the results from the tool call, here is a summary of the history of Hong Kong:\\n\\nHong Kong has a long and complex history that spans thousands of years. The earliest known human presence in the region dates back to the Paleolithic era, around 6,000 to 7,000 years ago. The region was later inhabited by the Tanka people, who were fishing communities.\\n\\nIn the 17th century, the Great Clearance policy led to the migration of Hakka people from inland China to Xin'an County, which included modern Hong Kong. During the Ming and Qing dynasties, Hong Kong remained under the governance of Xin'an County before it was colonized by the British.\\n\\nThe British established Hong Kong as a colony in 1841, after the Qing dynasty ceded Hong Kong Island in the aftermath of the First Opium War. The colony expanded to the Kowloon Peninsula in 1860 and was further extended when the United Kingdom obtained a 99-year lease of the New Territories in 1898.\\n\\nHong Kong was occupied by Japan during World War II from 1941 to 1945. After the war, the British returned to Hong Kong and maintained control until 1997, when the territory was handed over to China.\\n\\nToday, Hong Kong is a Special Administrative Region of China, with a high degree of autonomy and a unique blend of Chinese and Western cultures.\", additional_kwargs={}, response_metadata={'token_usage': {'completion_tokens': 283, 'prompt_tokens': 1672, 'total_tokens': 1955, 'completion_time': 0.235833333, 'prompt_time': 0.207894514, 'queue_time': 0.16567916000000002, 'total_time': 0.443727847}, 'model_name': 'llama3-8b-8192', 'system_fingerprint': 'fp_dadc9d6142', 'finish_reason': 'stop', 'logprobs': None}, id='run--e050edb1-0cb9-40bf-b3b5-4c3304d1f996-0', usage_metadata={'input_tokens': 1672, 'output_tokens': 283, 'total_tokens': 1955}), SystemMessage(content='Whenever you do not know the answer or need up-to-date information, perform a web search to find accurate and relevant results before responding.', additional_kwargs={}, response_metadata={}, id='aaeba405-fc83-4481-a1ca-a7922f0d11fe'), HumanMessage(content='What is the GDP of it?', additional_kwargs={}, response_metadata={}, id='6f7cc3b3-ac7a-431e-8106-59a8686ef2aa'), AIMessage(content='', additional_kwargs={'tool_calls': [{'id': 'call_4jkp', 'function': {'arguments': '{\"query\":\"Hong Kong GDP\"}', 'name': 'tavily_search_results_json'}, 'type': 'function'}]}, response_metadata={'token_usage': {'completion_tokens': 67, 'prompt_tokens': 1998, 'total_tokens': 2065, 'completion_time': 0.055833333, 'prompt_time': 0.250041593, 'queue_time': 0.16511356900000002, 'total_time': 0.305874926}, 'model_name': 'llama3-8b-8192', 'system_fingerprint': 'fp_179b0f92c9', 'finish_reason': 'tool_calls', 'logprobs': None}, id='run--6562d1f7-0181-476d-9335-e07f7fd8c76f-0', tool_calls=[{'name': 'tavily_search_results_json', 'args': {'query': 'Hong Kong GDP'}, 'id': 'call_4jkp', 'type': 'tool_call'}], usage_metadata={'input_tokens': 1998, 'output_tokens': 67, 'total_tokens': 2065}), ToolMessage(content='[{\"title\": \"Hong Kong GDP - Trading Economics\", \"url\": \"https://tradingeconomics.com/hong-kong/gdp\", \"content\": \"The Gross Domestic Product (GDP) in Hong Kong was worth 380.81 billion US dollars in 2023, according to official data from the World Bank. The GDP value of\", \"score\": 0.9454852}, {\"title\": \"Hong Kong GDP: $339 Billion - World Economics\", \"url\": \"https://www.worldeconomics.com/GrossDomesticProduct/Real-GDP/Hong%20Kong.aspx\", \"content\": \"GDP in Hong Kong is estimated to be $339 Billion US dollars at the end of 2024 in Real GDP terms.\", \"score\": 0.9392538}]', name='tavily_search_results_json', id='e9f7c226-6ced-4665-93da-e799b5d67597', tool_call_id='call_4jkp'), AIMessage(content='According to the results from the tool call, the GDP of Hong Kong is approximately $380.81 billion US dollars in 2023, according to the World Bank. Alternatively, it is estimated to be $339 billion US dollars in Real GDP terms at the end of 2024, according to World Economics.', additional_kwargs={}, response_metadata={'token_usage': {'completion_tokens': 64, 'prompt_tokens': 2235, 'total_tokens': 2299, 'completion_time': 0.053333333, 'prompt_time': 0.278915076, 'queue_time': 0.16536982100000003, 'total_time': 0.332248409}, 'model_name': 'llama3-8b-8192', 'system_fingerprint': 'fp_179b0f92c9', 'finish_reason': 'stop', 'logprobs': None}, id='run--429b8c60-b3a7-4d38-926e-aff5a49bf079-0', usage_metadata={'input_tokens': 2235, 'output_tokens': 64, 'total_tokens': 2299})]}, next=(), config={'configurable': {'thread_id': '2', 'checkpoint_ns': '', 'checkpoint_id': '1f035744-4f8b-6e7a-8008-b8edb51785a8'}}, metadata={'source': 'loop', 'writes': {'chatbot': {'messages': [AIMessage(content='According to the results from the tool call, the GDP of Hong Kong is approximately $380.81 billion US dollars in 2023, according to the World Bank. Alternatively, it is estimated to be $339 billion US dollars in Real GDP terms at the end of 2024, according to World Economics.', additional_kwargs={}, response_metadata={'token_usage': {'completion_tokens': 64, 'prompt_tokens': 2235, 'total_tokens': 2299, 'completion_time': 0.053333333, 'prompt_time': 0.278915076, 'queue_time': 0.16536982100000003, 'total_time': 0.332248409}, 'model_name': 'llama3-8b-8192', 'system_fingerprint': 'fp_179b0f92c9', 'finish_reason': 'stop', 'logprobs': None}, id='run--429b8c60-b3a7-4d38-926e-aff5a49bf079-0', usage_metadata={'input_tokens': 2235, 'output_tokens': 64, 'total_tokens': 2299})]}}, 'step': 8, 'parents': {}, 'thread_id': '2'}, created_at='2025-05-20T12:16:33.811621+00:00', parent_config={'configurable': {'thread_id': '2', 'checkpoint_ns': '', 'checkpoint_id': '1f035744-4890-618b-8007-cc7150994ea9'}}, tasks=(), interrupts=())"
      ]
     },
     "execution_count": 23,
     "metadata": {},
     "output_type": "execute_result"
    }
   ],
   "source": [
    "# Get the state of the checkbot for eval\n",
    "snapshot = graph.get_state(config)\n",
    "snapshot"
   ]
  }
 ],
 "metadata": {
  "kernelspec": {
   "display_name": "Python 3 (ipykernel)",
   "language": "python",
   "name": "python3"
  },
  "language_info": {
   "codemirror_mode": {
    "name": "ipython",
    "version": 3
   },
   "file_extension": ".py",
   "mimetype": "text/x-python",
   "name": "python",
   "nbconvert_exporter": "python",
   "pygments_lexer": "ipython3",
   "version": "3.9.21"
  }
 },
 "nbformat": 4,
 "nbformat_minor": 5
}
