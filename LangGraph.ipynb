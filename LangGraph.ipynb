{
 "cells": [
  {
   "cell_type": "markdown",
   "id": "78b37985-1913-40a1-9ec3-7aad7c6e7564",
   "metadata": {},
   "source": [
    "# Chatbot with LangGraph "
   ]
  },
  {
   "cell_type": "markdown",
   "id": "5c7408f9-cb6e-4706-9d5b-6b539a0f0e0e",
   "metadata": {},
   "source": [
    "## Set up Groq and Tavily"
   ]
  },
  {
   "cell_type": "code",
   "execution_count": 1,
   "id": "512cb07e-e632-46c1-9f77-f72df49a3ecc",
   "metadata": {},
   "outputs": [
    {
     "data": {
      "text/plain": [
       "True"
      ]
     },
     "execution_count": 1,
     "metadata": {},
     "output_type": "execute_result"
    }
   ],
   "source": [
    "import getpass\n",
    "import os\n",
    "from dotenv import load_dotenv\n",
    "\n",
    "# Load environment variables from .env file\n",
    "load_dotenv()"
   ]
  },
  {
   "cell_type": "code",
   "execution_count": 2,
   "id": "15ba0135-e59e-49d2-844f-e9403534424a",
   "metadata": {},
   "outputs": [],
   "source": [
    "# Set up Groq, the LLM\n",
    "if not os.environ.get(\"GROQ_API_KEY\"):\n",
    "  os.environ[\"GROQ_API_KEY\"] = getpass.getpass(\"Enter API key for Groq: \")"
   ]
  },
  {
   "cell_type": "code",
   "execution_count": 3,
   "id": "2c0c2212-e4bf-4ceb-b00c-afc565ffa609",
   "metadata": {},
   "outputs": [],
   "source": [
    "# Set up Tavily, the search engine\n",
    "if not os.environ.get(\"TAVILY_API_KEY\"):\n",
    "  os.environ[\"TAVILY_API_KEY\"] = getpass.getpass(\"Enter API key for Tavily: \")"
   ]
  },
  {
   "cell_type": "markdown",
   "id": "58d06a4b-a85a-4dba-8d06-e5f6f310f7f7",
   "metadata": {},
   "source": [
    "## Set up LLM with tools"
   ]
  },
  {
   "cell_type": "code",
   "execution_count": 4,
   "id": "439d2053-1c49-4bcb-90cc-22617d3166e1",
   "metadata": {},
   "outputs": [],
   "source": [
    "from langchain_community.tools.tavily_search import TavilySearchResults\n",
    "search = TavilySearchResults(max_results=2)\n",
    "tools = [search]"
   ]
  },
  {
   "cell_type": "code",
   "execution_count": 5,
   "id": "3f1f4367-5504-4319-a769-882b8c98615b",
   "metadata": {},
   "outputs": [],
   "source": [
    "from langchain.chat_models import init_chat_model\n",
    "\n",
    "llm = init_chat_model(\"llama3-8b-8192\", model_provider=\"groq\")"
   ]
  },
  {
   "cell_type": "code",
   "execution_count": 6,
   "id": "d9b878af-bf04-437b-874d-9159c6f735b0",
   "metadata": {},
   "outputs": [],
   "source": [
    "# tell the LLM which tools it can call\n",
    "llm_with_tools = llm.bind_tools(tools)"
   ]
  },
  {
   "cell_type": "markdown",
   "id": "87ed84ee-d5fc-42d7-8c58-a619633d67f6",
   "metadata": {},
   "source": [
    "## LangGraph"
   ]
  },
  {
   "cell_type": "code",
   "execution_count": 7,
   "id": "cc35f51b-c5ff-4bf0-989b-5754e0554bd6",
   "metadata": {},
   "outputs": [
    {
     "data": {
      "text/plain": [
       "<langgraph.graph.state.StateGraph at 0x19372aa8f40>"
      ]
     },
     "execution_count": 7,
     "metadata": {},
     "output_type": "execute_result"
    }
   ],
   "source": [
    "# Incorporate it into a StateGraph\n",
    "from typing import Annotated\n",
    "\n",
    "from typing_extensions import TypedDict\n",
    "\n",
    "from langgraph.graph import StateGraph, START, END\n",
    "from langgraph.graph.message import add_messages\n",
    "from langgraph.checkpoint.memory import MemorySaver\n",
    "\n",
    "# The class is a dict to store messages returned by llm\n",
    "# The key \"messages\" has a value of list\n",
    "# The update rule of \"messages\" value is appending the list instead of overwritting it\n",
    "class State(TypedDict):\n",
    "    messages: Annotated[list, add_messages]\n",
    "\n",
    "graph_builder = StateGraph(State)\n",
    "\n",
    "def chatbot(state: State):\n",
    "    return {\"messages\": [llm_with_tools.invoke(state[\"messages\"])]}\n",
    "\n",
    "graph_builder.add_node(\"chatbot\", chatbot)"
   ]
  },
  {
   "cell_type": "code",
   "execution_count": 8,
   "id": "6ee204a8-e1e9-405a-9e22-007bfe6d2574",
   "metadata": {},
   "outputs": [
    {
     "data": {
      "text/plain": [
       "<langgraph.graph.state.StateGraph at 0x19372aa8f40>"
      ]
     },
     "execution_count": 8,
     "metadata": {},
     "output_type": "execute_result"
    }
   ],
   "source": [
    "# Create a function to run the tools\n",
    "import json\n",
    "\n",
    "from langchain_core.messages import ToolMessage\n",
    "\n",
    "\n",
    "class BasicToolNode:\n",
    "    \"\"\"A node that runs the tools requested in the last AIMessage.\"\"\"\n",
    "\n",
    "    def __init__(self, tools: list) -> None:\n",
    "        # dict of tools\n",
    "        self.tools_by_name = {tool.name: tool for tool in tools}\n",
    "\n",
    "    def __call__(self, inputs: dict):\n",
    "        # get the most recent message in the state dict\n",
    "        if messages := inputs.get(\"messages\", []):\n",
    "            message = messages[-1]\n",
    "        else:\n",
    "            raise ValueError(\"No message found in input\")\n",
    "        outputs = []\n",
    "        # calls tools if the message contains tool_calls\n",
    "        for tool_call in message.tool_calls:\n",
    "            tool_result = self.tools_by_name[tool_call[\"name\"]].invoke(\n",
    "                tool_call[\"args\"]\n",
    "            )\n",
    "            outputs.append(\n",
    "                ToolMessage(\n",
    "                    content=json.dumps(tool_result),\n",
    "                    name=tool_call[\"name\"],\n",
    "                    tool_call_id=tool_call[\"id\"],\n",
    "                )\n",
    "            )\n",
    "        return {\"messages\": outputs}\n",
    "\n",
    "tool_node = BasicToolNode(tools=[search])\n",
    "graph_builder.add_node(\"tools\", tool_node)"
   ]
  },
  {
   "cell_type": "code",
   "execution_count": 9,
   "id": "26435c98-6d43-47d4-acb6-37882165da28",
   "metadata": {},
   "outputs": [],
   "source": [
    "# Define the conditional_edges\n",
    "def route_tools(\n",
    "    state: State,\n",
    "):\n",
    "    \"\"\"\n",
    "    Use in the conditional_edge to route to the ToolNode if the last message\n",
    "    has tool calls. Otherwise, route to the end.\n",
    "    \"\"\"\n",
    "    if isinstance(state, list):\n",
    "        ai_message = state[-1]\n",
    "    elif messages := state.get(\"messages\", []):\n",
    "        ai_message = messages[-1]\n",
    "    else:\n",
    "        raise ValueError(f\"No messages found in input state to tool_edge: {state}\")\n",
    "    if hasattr(ai_message, \"tool_calls\") and len(ai_message.tool_calls) > 0:\n",
    "        return \"tools\"\n",
    "    return END\n",
    "\n",
    "\n",
    "# The `tools_condition` function returns \"tools\" if the chatbot asks to use a tool, and \"END\" if\n",
    "# it is fine directly responding. This conditional routing defines the main agent loop.\n",
    "graph_builder.add_conditional_edges(\n",
    "    \"chatbot\",\n",
    "    route_tools,\n",
    "    # The following dictionary lets you tell the graph to interpret the condition's outputs as a specific node\n",
    "    # It defaults to the identity function, but if you\n",
    "    # want to use a node named something else apart from \"tools\",\n",
    "    # You can update the value of the dictionary to something else\n",
    "    # e.g., \"tools\": \"my_tools\"\n",
    "    {\"tools\": \"tools\", END: END},\n",
    ")\n",
    "# Any time a tool is called, we return to the chatbot to decide the next step\n",
    "graph_builder.add_edge(\"tools\", \"chatbot\")\n",
    "graph_builder.add_edge(START, \"chatbot\")\n",
    "\n",
    "# MemorySaver helps remember chat history\n",
    "# Use SqliteSaver or PostgresSaver and connect a database for persistent store. \n",
    "memory = MemorySaver() # In-Memory Saver, for demo only\n",
    "graph = graph_builder.compile(checkpointer=memory)"
   ]
  },
  {
   "cell_type": "code",
   "execution_count": 10,
   "id": "bbc441ef-f711-420b-a757-4822fce4a07f",
   "metadata": {},
   "outputs": [
    {
     "data": {
      "image/png": "[encoded data removed]",
      "text/plain": [
       "<IPython.core.display.Image object>"
      ]
     },
     "metadata": {},
     "output_type": "display_data"
    }
   ],
   "source": [
    "# Visualize the graph\n",
    "from IPython.display import Image, display\n",
    "\n",
    "try:\n",
    "    display(Image(graph.get_graph().draw_mermaid_png()))\n",
    "except Exception:\n",
    "    pass"
   ]
  },
  {
   "cell_type": "code",
   "execution_count": 11,
   "id": "4f06fcf8-b1af-4d1a-97eb-d58e4159a4cf",
   "metadata": {},
   "outputs": [],
   "source": [
    "# Change thread_id for different conversation\n",
    "config = {\"configurable\": {\"thread_id\": \"2\"}}"
   ]
  },
  {
   "cell_type": "code",
   "execution_count": 12,
   "id": "3bfa645f-ff7b-4d48-9356-f770176d3490",
   "metadata": {},
   "outputs": [],
   "source": [
    "# Set up system message, set None to disable\n",
    "system_message = 'Whenever you do not know the answer or need up-to-date information, perform a web search to find accurate and relevant results before responding.'"
   ]
  },
  {
   "cell_type": "code",
   "execution_count": 13,
   "id": "2b51d410-88f5-496b-afac-581f5269f02f",
   "metadata": {},
   "outputs": [],
   "source": [
    "def stream_graph_updates(user_input: str):\n",
    "    if system_message:        \n",
    "        messages = [{\"role\": \"system\", \"content\": system_message}, {\"role\": \"user\", \"content\": user_input}]\n",
    "    else:\n",
    "        messages = [{\"role\": \"user\", \"content\": user_input}]\n",
    "    events = graph.stream(\n",
    "    {\"messages\": messages},\n",
    "    config,\n",
    "    stream_mode=\"values\",)\n",
    "    for event in events:\n",
    "        event[\"messages\"][-1].pretty_print()"
   ]
  },
  {
   "cell_type": "code",
   "execution_count": 14,
   "id": "74e9561f-a432-4da5-8663-2c59c2b71037",
   "metadata": {},
   "outputs": [
    {
     "name": "stdin",
     "output_type": "stream",
     "text": [
      "User:  Hello\n"
     ]
    },
    {
     "name": "stdout",
     "output_type": "stream",
     "text": [
      "================================\u001b[1m Human Message \u001b[0m=================================\n",
      "\n",
      "Hello\n",
      "==================================\u001b[1m Ai Message \u001b[0m==================================\n",
      "Tool Calls:\n",
      "  tavily_search_results_json (call_qddk)\n",
      " Call ID: call_qddk\n",
      "  Args:\n",
      "    query: Hello\n",
      "=================================\u001b[1m Tool Message \u001b[0m=================================\n",
      "Name: tavily_search_results_json\n",
      "\n",
      "[{\"title\": \"Hello (Adele song) - Wikipedia\", \"url\": \"https://en.wikipedia.org/wiki/Hello_(Adele_song)\", \"content\": \"\\\"Hello\\\" is a song recorded by British singer-songwriter Adele, released on 23 October 2015 by XL Recordings as the lead single from her third studio album, 25 (2015). Written by Adele and the album's producer, Greg Kurstin, \\\"Hello\\\" is a piano ballad with soul influences (including guitar) and lyrics that discuss themes of nostalgia and regret. Upon release, the song garnered critical acclaim, with reviewers comparing it favourably to Adele's previous works and praised its lyrics, production and [...] \\\"Hello\\\" is a soul piano ballad,[2][14] played in the key of F minor at a tempo of 79 beats per minute. The repeated chord progression heard in the verse, played by the piano, follows two progressions and a passage (Bridge) progression (passage or Bridge progression connects two main progressions to each other) of Progression #1: Fm(i)\\u2013A\\u266d(III)\\u2013E\\u266d(VII)\\u2013D\\u266d(VI), Passage progression: Fm(i)\\u2013E\\u266d(VII)-Cm(v)-D\\u266d(VI)-Fm7(i7)-E\\u266d(VII)\\u2013D\\u266d(VI), Progression #2:Fm(i)\\u2013D\\u266d/F(VI)\\u2013A\\u266d(III)\\u2013E\\u266d(VII). According to [...] \\\"Hello\\\" was a massive global success, topping the records charts in a record-setting 36 countries, including in the United Kingdom where it became Adele's second chart topper, following \\\"Someone Like You\\\", and had the largest opening week sales in three years. In the United States, \\\"Hello\\\" debuted atop the Billboard Hot 100, reigning for ten consecutive weeks while becoming Adele's fourth number-one single on the chart and breaking several records, including becoming the first song to sell over\", \"score\": 0.8497846}, {\"title\": \"Hello - Wikipedia\", \"url\": \"https://en.wikipedia.org/wiki/Hello\", \"content\": \"The greeting \\\"Hello\\\" became associated with telephones in the late 19th century. Postcard c. 1905\\u20131915\\nHello is a salutation or greeting in the English language. It is first attested in writing from 1826.[1]\\nEarly uses [...] According to the Oxford English Dictionary, hello is an alteration of hallo, hollo,[1] which came from Old High German \\\"hal\\u00e2, hol\\u00e2, emphatic imperative of hal\\u00f4n, hol\\u00f4n to fetch, used especially in hailing a ferryman\\\".[5] It also connects the development of hello to the influence of an earlier form, holla, whose origin is in the French hol\\u00e0 (roughly, 'whoa there!', from French l\\u00e0 'there').[6] As in addition to hello, halloo,[7]hallo, hollo, hullo and (rarely) hillo also exist as variants or\", \"score\": 0.8036831}]\n",
      "==================================\u001b[1m Ai Message \u001b[0m==================================\n",
      "\n",
      "It seems that the tool call \"call_qddk\" yielded multiple results related to the query \"Hello\". Based on the output, it appears that \"Hello\" can refer to either a song by Adele or a general greeting.\n"
     ]
    },
    {
     "name": "stdin",
     "output_type": "stream",
     "text": [
      "User:  q\n"
     ]
    },
    {
     "name": "stdout",
     "output_type": "stream",
     "text": [
      "Goodbye!\n"
     ]
    }
   ],
   "source": [
    "# Ask the bot questions\n",
    "while True:\n",
    "    user_input = input(\"User: \")\n",
    "    if user_input.lower() in [\"quit\", \"exit\", \"q\"]:\n",
    "        print(\"Goodbye!\")\n",
    "        break\n",
    "    stream_graph_updates(user_input)"
   ]
  },
  {
   "cell_type": "markdown",
   "id": "e0748ca1-d6a7-407d-a262-69ae73fbd119",
   "metadata": {},
   "source": [
    "The chatbot remember the city and search the web successfully."
   ]
  },
  {
   "cell_type": "code",
   "execution_count": 15,
   "id": "01efec84-efc2-481a-8b2c-ed832e75778e",
   "metadata": {},
   "outputs": [
    {
     "data": {
      "text/plain": [
       "StateSnapshot(values={'messages': [SystemMessage(content='Whenever you do not know the answer or need up-to-date information, perform a web search to find accurate and relevant results before responding.', additional_kwargs={}, response_metadata={}, id='c1d59c3e-5280-4b82-b56c-8cff24109835'), HumanMessage(content='Hello', additional_kwargs={}, response_metadata={}, id='e256f544-5880-4828-85f5-86bad9fbe003'), AIMessage(content='', additional_kwargs={'tool_calls': [{'id': 'call_qddk', 'function': {'arguments': '{\"query\":\"Hello\"}', 'name': 'tavily_search_results_json'}, 'type': 'function'}]}, response_metadata={'token_usage': {'completion_tokens': 77, 'prompt_tokens': 944, 'total_tokens': 1021, 'completion_time': 0.057002703, 'prompt_time': 0.116441991, 'queue_time': 0.12910957, 'total_time': 0.173444694}, 'model_name': 'llama3-8b-8192', 'system_fingerprint': 'fp_f974fb141b', 'finish_reason': 'tool_calls', 'logprobs': None}, id='run--a0fc10c5-4bc8-4577-9d51-004b6779d703-0', tool_calls=[{'name': 'tavily_search_results_json', 'args': {'query': 'Hello'}, 'id': 'call_qddk', 'type': 'tool_call'}], usage_metadata={'input_tokens': 944, 'output_tokens': 77, 'total_tokens': 1021}), ToolMessage(content='[{\"title\": \"Hello (Adele song) - Wikipedia\", \"url\": \"https://en.wikipedia.org/wiki/Hello_(Adele_song)\", \"content\": \"\\\\\"Hello\\\\\" is a song recorded by British singer-songwriter Adele, released on 23 October 2015 by XL Recordings as the lead single from her third studio album, 25 (2015). Written by Adele and the album\\'s producer, Greg Kurstin, \\\\\"Hello\\\\\" is a piano ballad with soul influences (including guitar) and lyrics that discuss themes of nostalgia and regret. Upon release, the song garnered critical acclaim, with reviewers comparing it favourably to Adele\\'s previous works and praised its lyrics, production and [...] \\\\\"Hello\\\\\" is a soul piano ballad,[2][14] played in the key of F minor at a tempo of 79 beats per minute. The repeated chord progression heard in the verse, played by the piano, follows two progressions and a passage (Bridge) progression (passage or Bridge progression connects two main progressions to each other) of Progression #1: Fm(i)\\\\u2013A\\\\u266d(III)\\\\u2013E\\\\u266d(VII)\\\\u2013D\\\\u266d(VI), Passage progression: Fm(i)\\\\u2013E\\\\u266d(VII)-Cm(v)-D\\\\u266d(VI)-Fm7(i7)-E\\\\u266d(VII)\\\\u2013D\\\\u266d(VI), Progression #2:Fm(i)\\\\u2013D\\\\u266d/F(VI)\\\\u2013A\\\\u266d(III)\\\\u2013E\\\\u266d(VII). According to [...] \\\\\"Hello\\\\\" was a massive global success, topping the records charts in a record-setting 36 countries, including in the United Kingdom where it became Adele\\'s second chart topper, following \\\\\"Someone Like You\\\\\", and had the largest opening week sales in three years. In the United States, \\\\\"Hello\\\\\" debuted atop the Billboard Hot 100, reigning for ten consecutive weeks while becoming Adele\\'s fourth number-one single on the chart and breaking several records, including becoming the first song to sell over\", \"score\": 0.8497846}, {\"title\": \"Hello - Wikipedia\", \"url\": \"https://en.wikipedia.org/wiki/Hello\", \"content\": \"The greeting \\\\\"Hello\\\\\" became associated with telephones in the late 19th century. Postcard c. 1905\\\\u20131915\\\\nHello is a salutation or greeting in the English language. It is first attested in writing from 1826.[1]\\\\nEarly uses [...] According to the Oxford English Dictionary, hello is an alteration of hallo, hollo,[1] which came from Old High German \\\\\"hal\\\\u00e2, hol\\\\u00e2, emphatic imperative of hal\\\\u00f4n, hol\\\\u00f4n to fetch, used especially in hailing a ferryman\\\\\".[5] It also connects the development of hello to the influence of an earlier form, holla, whose origin is in the French hol\\\\u00e0 (roughly, \\'whoa there!\\', from French l\\\\u00e0 \\'there\\').[6] As in addition to hello, halloo,[7]hallo, hollo, hullo and (rarely) hillo also exist as variants or\", \"score\": 0.8036831}]', name='tavily_search_results_json', id='926dde16-e971-4f59-9fec-d037976bf6c7', tool_call_id='call_qddk'), AIMessage(content='It seems that the tool call \"call_qddk\" yielded multiple results related to the query \"Hello\". Based on the output, it appears that \"Hello\" can refer to either a song by Adele or a general greeting.', additional_kwargs={}, response_metadata={'token_usage': {'completion_tokens': 48, 'prompt_tokens': 1721, 'total_tokens': 1769, 'completion_time': 0.03559581, 'prompt_time': 0.211703836, 'queue_time': 0.12959944599999998, 'total_time': 0.247299646}, 'model_name': 'llama3-8b-8192', 'system_fingerprint': 'fp_f974fb141b', 'finish_reason': 'stop', 'logprobs': None}, id='run--048404ec-17f4-46d0-a421-4779f25ae25b-0', usage_metadata={'input_tokens': 1721, 'output_tokens': 48, 'total_tokens': 1769})]}, next=(), config={'configurable': {'thread_id': '2', 'checkpoint_ns': '', 'checkpoint_id': '1f03c2d2-0cdc-6531-8003-ab76019b2019'}}, metadata={'source': 'loop', 'writes': {'chatbot': {'messages': [AIMessage(content='It seems that the tool call \"call_qddk\" yielded multiple results related to the query \"Hello\". Based on the output, it appears that \"Hello\" can refer to either a song by Adele or a general greeting.', additional_kwargs={}, response_metadata={'token_usage': {'completion_tokens': 48, 'prompt_tokens': 1721, 'total_tokens': 1769, 'completion_time': 0.03559581, 'prompt_time': 0.211703836, 'queue_time': 0.12959944599999998, 'total_time': 0.247299646}, 'model_name': 'llama3-8b-8192', 'system_fingerprint': 'fp_f974fb141b', 'finish_reason': 'stop', 'logprobs': None}, id='run--048404ec-17f4-46d0-a421-4779f25ae25b-0', usage_metadata={'input_tokens': 1721, 'output_tokens': 48, 'total_tokens': 1769})]}}, 'step': 3, 'parents': {}, 'thread_id': '2'}, created_at='2025-05-29T01:34:57.003652+00:00', parent_config={'configurable': {'thread_id': '2', 'checkpoint_ns': '', 'checkpoint_id': '1f03c2d2-0729-6559-8002-8ad5710aeae6'}}, tasks=(), interrupts=())"
      ]
     },
     "execution_count": 15,
     "metadata": {},
     "output_type": "execute_result"
    }
   ],
   "source": [
    "# Get the state of the checkbot for eval\n",
    "snapshot = graph.get_state(config)\n",
    "snapshot"
   ]
  }
 ],
 "metadata": {
  "kernelspec": {
   "display_name": "Python 3 (ipykernel)",
   "language": "python",
   "name": "python3"
  },
  "language_info": {
   "codemirror_mode": {
    "name": "ipython",
    "version": 3
   },
   "file_extension": ".py",
   "mimetype": "text/x-python",
   "name": "python",
   "nbconvert_exporter": "python",
   "pygments_lexer": "ipython3",
   "version": "3.9.21"
  }
 },
 "nbformat": 4,
 "nbformat_minor": 5
}
